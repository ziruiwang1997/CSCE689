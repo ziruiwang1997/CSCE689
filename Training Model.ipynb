{
 "cells": [
  {
   "cell_type": "code",
   "execution_count": 3,
   "metadata": {},
   "outputs": [
    {
     "name": "stderr",
     "output_type": "stream",
     "text": [
      "Using TensorFlow backend.\n"
     ]
    }
   ],
   "source": [
    "import pandas as pd\n",
    "import numpy as np\n",
    "import os\n",
    "import json\n",
    "import csv\n",
    "import pandas as pd\n",
    "import sklearn\n",
    "from sklearn.model_selection import train_test_split\n",
    "from keras.preprocessing import sequence\n",
    "from keras.models import Sequential\n",
    "from keras.layers import Bidirectional, Embedding, LSTM\n",
    "from keras.layers.core import Dense, Dropout, Activation, Flatten\n",
    "from keras import backend as kb\n",
    "from keras import initializers\n",
    "from keras.callbacks import ReduceLROnPlateau\n",
    "from keras.models import load_model\n",
    "from highcharts import Highchart\n",
    "#!pip import python_highcharts\n",
    "import matplotlib.pyplot as plt"
   ]
  },
  {
   "cell_type": "code",
   "execution_count": 4,
   "metadata": {},
   "outputs": [],
   "source": [
    "x_train = np.load(\"x_train.npy\")\n",
    "x_test = np.load(\"x_test.npy\")\n",
    "y_train = np.load(\"y_train.npy\")\n",
    "y_test = np.load(\"y_test.npy\")\n",
    "new_x = np.reshape(x_train, (10660, 5700))\n",
    "new_xtest = np.reshape(x_test,(3554, 5700))"
   ]
  },
  {
   "cell_type": "code",
   "execution_count": null,
   "metadata": {},
   "outputs": [],
   "source": [
    "# set parameters:\n",
    "batch_size = 128\n",
    "nb_epoch = 2500\n",
    "n_RNN_nodes = 1024\n",
    "recurrent_dropout = 0.25\n",
    "drop_out = 0.5\n",
    "model = Sequential()\n",
    "model.add(Bidirectional(LSTM(units=n_RNN_nodes, return_sequences=True, recurrent_dropout=recurrent_dropout, dropout=drop_out, name='hidden_layer1', kernel_initializer=initializers.random_normal(stddev=0.01))))\n",
    "model.add(Bidirectional(LSTM(units=n_RNN_nodes, return_sequences=False, recurrent_dropout=recurrent_dropout,dropout=drop_out, name='hidden_layer2', kernel_initializer=initializers.random_normal(stddev=0.01))))\n",
    "model.add(Dropout(drop_out))\n",
    "model.add(Dense(units=256, activation='relu', name='dense_layer', kernel_initializer=initializers.random_normal(stddev=0.01)))\n",
    "model.add(Dropout(drop_out))\n",
    "model.add(Dense(1, activation='sigmoid', name='output_layer', kernel_initializer=initializers.random_normal(stddev=0.01)))\n",
    "model.compile(loss='binary_crossentropy',optimizer='adam',metrics=['accuracy'])"
   ]
  },
  {
   "cell_type": "code",
   "execution_count": null,
   "metadata": {},
   "outputs": [],
   "source": [
    "reduce_lr = ReduceLROnPlateau(monitor='loss', factor=0.1, patience=10, verbose=0, mode='auto', epsilon=0.0001, min_lr=0.001)\n",
    "history = model.fit(x_train, y_train, batch_size=batch_size, nb_epoch=nb_epoch, validation_split=0.3, shuffle = True, callbacks=[reduce_lr], verbose = 1) \n",
    "score = model.evaluate(x_test, y_test)\n",
    "print('Test score:', score[0])\n",
    "print('Test accuracy:', score[1])"
   ]
  },
  {
   "cell_type": "code",
   "execution_count": null,
   "metadata": {},
   "outputs": [],
   "source": [
    "fig = plt.figure()#\n",
    "model_id = 'final.h5'\n",
    "plt.plot(history.history['accuracy'],label='training acc')\n",
    "plt.plot(history.history['val_accuracy'],label='val acc')\n",
    "plt.title('model accuracy')\n",
    "plt.ylabel('accuracy')\n",
    "plt.xlabel('epoch')\n",
    "plt.legend(loc='lower right')\n",
    "fig.savefig('VGG16'+str(model_id)+'acc.png')\n",
    "fig = plt.figure()\n",
    "plt.plot(history.history['loss'],label='training loss')\n",
    "plt.plot(history.history['val_loss'], label='val loss')\n",
    "plt.title('model loss')\n",
    "plt.ylabel('loss')\n",
    "plt.xlabel('epoch')\n",
    "plt.legend(loc='upper right')\n",
    "fig.savefig('VGG16'+str(model_id)+'loss.png')\n",
    "model.save(\"final.h5\")"
   ]
  },
  {
   "cell_type": "code",
   "execution_count": null,
   "metadata": {},
   "outputs": [],
   "source": []
  }
 ],
 "metadata": {
  "kernelspec": {
   "display_name": "Python 3",
   "language": "python",
   "name": "python3"
  },
  "language_info": {
   "codemirror_mode": {
    "name": "ipython",
    "version": 3
   },
   "file_extension": ".py",
   "mimetype": "text/x-python",
   "name": "python",
   "nbconvert_exporter": "python",
   "pygments_lexer": "ipython3",
   "version": "3.7.4"
  }
 },
 "nbformat": 4,
 "nbformat_minor": 2
}
