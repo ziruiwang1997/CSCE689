{
 "cells": [
  {
   "cell_type": "markdown",
   "metadata": {},
   "source": [
    "# Part1: Collecting Data from Skeleton Info"
   ]
  },
  {
   "cell_type": "markdown",
   "metadata": {},
   "source": [
    "Import related packages"
   ]
  },
  {
   "cell_type": "code",
   "execution_count": 1,
   "metadata": {},
   "outputs": [
    {
     "name": "stderr",
     "output_type": "stream",
     "text": [
      "Using TensorFlow backend.\n"
     ]
    }
   ],
   "source": [
    "import pandas as pd\n",
    "import numpy as np\n",
    "import os\n",
    "import json\n",
    "import csv\n",
    "import pandas as pd\n",
    "import sklearn\n",
    "from sklearn.model_selection import train_test_split\n",
    "from keras.preprocessing import sequence\n",
    "from keras.models import Sequential\n",
    "from keras.layers import Bidirectional, Embedding, LSTM\n",
    "from keras.layers.core import Dense, Dropout, Activation, Flatten\n",
    "from keras import backend as kb\n",
    "from keras import initializers\n",
    "from keras.callbacks import ReduceLROnPlateau\n",
    "from keras.models import load_model\n",
    "#!pip install python_highcharts\n",
    "from highcharts import Highchart\n",
    "import json"
   ]
  },
  {
   "cell_type": "markdown",
   "metadata": {},
   "source": [
    "Function Introduction: \n",
    "\n",
    "    1: getJsonList: given a folder path, read file names from this folder and return a list\n",
    "    \n",
    "    2: getJsonForOneFrame: given a json file name, which is the information from a frame, return one person's information with 190 data points as a list describing face and body\n",
    "    \n",
    "    3: Processing one json file for a frame, if there are multiple people, we use this function to select the person with the most data points "
   ]
  },
  {
   "cell_type": "markdown",
   "metadata": {},
   "source": [
    "# Part5 Testing on new video and generate outcomes"
   ]
  },
  {
   "cell_type": "code",
   "execution_count": 22,
   "metadata": {},
   "outputs": [
    {
     "name": "stdout",
     "output_type": "stream",
     "text": [
      "Model: \"sequential_1\"\n",
      "_________________________________________________________________\n",
      "Layer (type)                 Output Shape              Param #   \n",
      "=================================================================\n",
      "bidirectional_1 (Bidirection (None, 30, 1024)          2879488   \n",
      "_________________________________________________________________\n",
      "bidirectional_2 (Bidirection (None, 1024)              6295552   \n",
      "_________________________________________________________________\n",
      "dense_layer (Dense)          (None, 256)               262400    \n",
      "_________________________________________________________________\n",
      "dropout_1 (Dropout)          (None, 256)               0         \n",
      "_________________________________________________________________\n",
      "output_layer (Dense)         (None, 1)                 257       \n",
      "=================================================================\n",
      "Total params: 9,437,697\n",
      "Trainable params: 9,437,697\n",
      "Non-trainable params: 0\n",
      "_________________________________________________________________\n",
      "3554/3554 [==============================] - 6s 2ms/step\n",
      "10660/10660 [==============================] - 13s 1ms/step\n",
      "Accuracy on test data:  0.7422622442245483\n",
      "Accuracy on train data:  0.73968106508255\n"
     ]
    }
   ],
   "source": [
    "x_train = np.load(\"x_train.npy\")\n",
    "x_test = np.load(\"x_test.npy\")\n",
    "y_train = np.load(\"y_train.npy\")\n",
    "y_test = np.load(\"y_test.npy\")\n",
    "model = load_model('final.h5')\n",
    "model.summary()\n",
    "score1 = model.evaluate(x_test, y_test)\n",
    "score2 = model.evaluate(x_train, y_train)\n",
    "print(\"Accuracy on test data: \", score1[1])\n",
    "print(\"Accuracy on train data: \", score2[1])"
   ]
  },
  {
   "cell_type": "code",
   "execution_count": 3,
   "metadata": {},
   "outputs": [],
   "source": [
    "def getJsonList(filePath):\n",
    "    fileList = []\n",
    "    for i,j,k in os.walk(filePath):\n",
    "        fileList = k\n",
    "    return fileList\n",
    "def calcWeight(item):\n",
    "    zeros = 0\n",
    "    for i in item['pose_keypoints_2d']:\n",
    "        if i == 0:\n",
    "            zeros += 1\n",
    "    for i in item['face_keypoints_2d']:\n",
    "        if i == 0:\n",
    "            zeros +=1\n",
    "    return zeros\n",
    "\n",
    "def getJsonForOneFrame(fileName, filePath):\n",
    "    l = getJsonList(filePath)\n",
    "    with open(fileName,'r') as f:\n",
    "        temp = json.loads(f.read())\n",
    "        allPeople = temp['people']\n",
    "    if len(allPeople) == 0:\n",
    "        empty = []\n",
    "        for i in range(190):\n",
    "            empty.append(0)\n",
    "        return empty\n",
    "    target = allPeople[0]\n",
    "    for dic in allPeople:\n",
    "        if calcWeight(dic) < calcWeight(target):\n",
    "            target = dic\n",
    "    matrix = []\n",
    "    if(len(target['pose_keypoints_2d']) == 0):\n",
    "        for i in range(50):\n",
    "            matrix.append(0)\n",
    "    else:\n",
    "        for i in range(75):\n",
    "            if (i+1) % 3 == 0:\n",
    "                pass\n",
    "            else:\n",
    "                matrix.append(target['pose_keypoints_2d'][i])\n",
    "    if(len(target['face_keypoints_2d']) == 0):\n",
    "        for i in range(140):\n",
    "            matrix.append(0)\n",
    "    else:\n",
    "        for i in range(210):\n",
    "            if (i+1) % 3 == 0:\n",
    "                pass\n",
    "            else:\n",
    "                matrix.append(target['face_keypoints_2d'][i])\n",
    "    return matrix\n",
    "\n",
    "\n",
    "def writeData(path, pathType,fullDfList):\n",
    "    fileList = getJsonList(path)\n",
    "    fileList = set(fileList)\n",
    "    print(len(fileList))\n",
    "    dataCat = pd.read_csv('data.csv')\n",
    "    for index, row in dataCat.iterrows():\n",
    "        temp = int(row['name'][:-1])\n",
    "        if(row[\"type\"] != pathType):\n",
    "            pass\n",
    "        else:\n",
    "            startName = row[\"name\"]+\"_\"+'0'.zfill(12)+\"_keypoints.json\"\n",
    "            endName = row[\"name\"]+\"_\"+'30'.zfill(12)+\"_keypoints.json\"\n",
    "            if endName and endName not in fileList:\n",
    "                print('Video ',row[\"name\"],\" is not long enough\")\n",
    "            else:\n",
    "                initFrame = 0\n",
    "                while(row[\"name\"]+\"_\"+str(initFrame + 29).zfill(12)+\"_keypoints.json\" in fileList):\n",
    "                    matrix = []\n",
    "                    for i in range(30):\n",
    "                        file = row[\"name\"]+\"_\"+str(initFrame + i).zfill(12)+\"_keypoints.json\"\n",
    "                        matrixLine = getJsonForOneFrame(path+'/'+file,path)\n",
    "                        matrix.append(matrixLine)\n",
    "                    if row['type'] == 'shortyes':\n",
    "                        label = True\n",
    "                    elif row['type'] == 'shortno':\n",
    "                        label = False\n",
    "                    else:\n",
    "                        label = getLable(dataCat,row['name'], initFrame)\n",
    "                    data = [[label, matrix]]\n",
    "                    print(\"Data:\",label, row['name'], initFrame,'matrix:',len(matrix),len(matrix[0]))\n",
    "                    df = pd.DataFrame(data,columns=['lable','matrix'])\n",
    "                    fullDfList.append(df)\n",
    "                    initFrame += 30\n",
    "    return fullDfList\n",
    "\n",
    "def draw(folderName,videoName, modelName):\n",
    "    #videoName = '6'#define your test video name here\n",
    "    fileList = getJsonList(folderName)\n",
    "    fileList = set(fileList)\n",
    "    print(len(fileList))\n",
    "    fullData = []\n",
    "    initFrame = 0\n",
    "    while(folderName+\"_\"+str(initFrame + 29).zfill(12)+\"_keypoints.json\" in fileList):\n",
    "        matrix = []\n",
    "        for i in range(30):\n",
    "            file = folderName+\"_\"+str(initFrame + i).zfill(12)+\"_keypoints.json\"\n",
    "            matrixLine = getJsonForOneFrame(folderName+'/'+file,folderName)\n",
    "\n",
    "            matrix.append(matrixLine)\n",
    "        fullData.append(matrix)\n",
    "        initFrame += 30\n",
    "    def cleanX(raw):\n",
    "        length = len(raw)\n",
    "        temp = np.zeros((length, 30,190))\n",
    "        for i in range(len(raw)):\n",
    "            for j in range(30):\n",
    "                for k in range(190):\n",
    "                    temp[i][j][k] = raw[i][j][k]\n",
    "            print(\"progress:{0}%\".format(round((i + 1) * 100 / len(raw))), end=\"\\r\")\n",
    "        return temp\n",
    "    temp = cleanX(fullData)\n",
    "    model = load_model(modelName)\n",
    "    predict = model.predict(temp)\n",
    "    a = predict.tolist()\n",
    "    result = []\n",
    "    frames = 30\n",
    "    for i in a:\n",
    "        result.append([frames,i[0]])\n",
    "        frames += 30\n",
    "    #print(result)\n",
    "    chart = Highchart()\n",
    "    chart.set_options('chart', {'inverted': False})\n",
    "    options = {\n",
    "        'title': {\n",
    "            'text': 'Prediction for video '+folderName+'.mp4'\n",
    "        },\n",
    "        'subtitle': {\n",
    "            'text': '1 means talking while 0 means non-talking'\n",
    "        },\n",
    "         'xAxis': {\n",
    "            'title': {\n",
    "                'text': 'Second'\n",
    "            }\n",
    "        },\n",
    "        'yAxis': {\n",
    "            'title': {\n",
    "                'text': 'Flag'\n",
    "            },\n",
    "        }\n",
    "    }\n",
    "    chart.set_dict_options(options)\n",
    "    chart.add_data_set(result, series_type='line', name='prediction')\n",
    "    \n",
    "    \n",
    "    \n",
    "    index = []\n",
    "    for i in result:\n",
    "        for j in range(30):\n",
    "            index.append(i[1])\n",
    "            \n",
    "        \n",
    "    import cv2\n",
    "    video = videoName\n",
    "    result_video = folderName+'_result.mp4'\n",
    "    cap = cv2.VideoCapture(video)\n",
    "    fps_video = cap.get(cv2.CAP_PROP_FPS)\n",
    "    fourcc = cv2.VideoWriter_fourcc(*\"mp4v\")\n",
    "    frame_width = int(cap.get(cv2.CAP_PROP_FRAME_WIDTH))\n",
    "    frame_height = int(cap.get(cv2.CAP_PROP_FRAME_HEIGHT))\n",
    "    videoWriter = cv2.VideoWriter(result_video, fourcc, fps_video, (frame_width, frame_height))\n",
    "    frame_id = 0\n",
    "    while (cap.isOpened()):\n",
    "        ret, frame = cap.read()\n",
    "        if ret == True:\n",
    "            frame_id += 1\n",
    "            left_x_up = int(frame_width / frame_id)\n",
    "            left_y_up = int(frame_height / frame_id)\n",
    "            right_x_down = int(left_x_up + frame_width / 10)\n",
    "            right_y_down = int(left_y_up + frame_height / 10)\n",
    "            word_x = left_x_up + 5\n",
    "            word_y = left_y_up + 25\n",
    "            if frame_id >= len(index):\n",
    "                pass\n",
    "            else:\n",
    "                cv2.putText(frame, 'frame_%s' %index[frame_id], (word_x, word_y), cv2.FONT_HERSHEY_SIMPLEX, 1, (55,255,155), 2)\n",
    "            videoWriter.write(frame)\n",
    "        else:\n",
    "            videoWriter.release()\n",
    "            break    \n",
    "    \n",
    "    frameRate = 30#default video frame rate\n",
    "    for i in result:\n",
    "        i[0] = i[0]/frameRate\n",
    "    print(result)\n",
    "    \n",
    "    d = {}\n",
    "    d['talking'] = result\n",
    "    file_name = 'timeLabel_'+videoName+'.json' \n",
    "    with open(file_name,'w') as file_object:\n",
    "        json.dump(d,file_object)\n",
    "    return chart"
   ]
  },
  {
   "cell_type": "code",
   "execution_count": 4,
   "metadata": {},
   "outputs": [
    {
     "name": "stdout",
     "output_type": "stream",
     "text": [
      "705\n",
      "WARNING:tensorflow:From C:\\Users\\wangz\\AppData\\Local\\Continuum\\anaconda3\\lib\\site-packages\\tensorflow\\python\\ops\\resource_variable_ops.py:435: colocate_with (from tensorflow.python.framework.ops) is deprecated and will be removed in a future version.\n",
      "Instructions for updating:\n",
      "Colocations handled automatically by placer.\n",
      "WARNING:tensorflow:From C:\\Users\\wangz\\AppData\\Local\\Continuum\\anaconda3\\lib\\site-packages\\tensorflow\\python\\ops\\math_ops.py:3066: to_int32 (from tensorflow.python.ops.math_ops) is deprecated and will be removed in a future version.\n",
      "Instructions for updating:\n",
      "Use tf.cast instead.\n",
      "[[1.0, 0.8638039827346802], [2.0, 0.8766095638275146], [3.0, 0.8733783960342407], [4.0, 0.8832111358642578], [5.0, 0.9061653017997742], [6.0, 0.8972619771957397], [7.0, 0.873337984085083], [8.0, 0.8712981343269348], [9.0, 0.8779884576797485], [10.0, 0.8888360857963562], [11.0, 0.9068564772605896], [12.0, 0.90848708152771], [13.0, 0.9086014032363892], [14.0, 0.8716625571250916], [15.0, 0.8595634698867798], [16.0, 0.8736330270767212], [17.0, 0.8963184952735901], [18.0, 0.8871179819107056], [19.0, 0.88200443983078], [20.0, 0.8719789981842041], [21.0, 0.8419056534767151], [22.0, 0.8726983070373535], [23.0, 0.8735845685005188]]\n"
     ]
    },
    {
     "data": {
      "text/html": [
       "<iframe style=\"border:0;outline:none;overflow:hidden\" srcdoc=\"&lt;!DOCTYPE html&gt; &lt;html lang=&quot;en&quot;&gt; &lt;head&gt; &lt;meta charset=&quot;utf-8&quot; /&gt; &lt;link href=&quot;https://www.highcharts.com/highslide/highslide.css&quot; rel=&quot;stylesheet&quot; /&gt; &lt;script type=&quot;text/javascript&quot; src=&quot;https://ajax.googleapis.com/ajax/libs/jquery/1.9.1/jquery.min.js&quot;&gt;&lt;/script&gt; &lt;script type=&quot;text/javascript&quot; src=&quot;https://code.highcharts.com/6/highcharts.js&quot;&gt;&lt;/script&gt; &lt;script type=&quot;text/javascript&quot; src=&quot;https://code.highcharts.com/6/highcharts-more.js&quot;&gt;&lt;/script&gt; &lt;script type=&quot;text/javascript&quot; src=&quot;https://code.highcharts.com/6/modules/heatmap.js&quot;&gt;&lt;/script&gt; &lt;script type=&quot;text/javascript&quot; src=&quot;https://code.highcharts.com/6/modules/exporting.js&quot;&gt;&lt;/script&gt; &lt;/head&gt; &lt;body style=&quot;margin:0;padding:0&quot;&gt; &lt;div id=&quot;container&quot; style=&quot;&quot;&gt;Loading....&lt;/div&gt; &lt;script&gt; $(function(){ Highcharts.setOptions({&quot;global&quot;: {}, &quot;lang&quot;: {}}); var option = {&quot;chart&quot;: {&quot;renderTo&quot;: &quot;container&quot;, &quot;inverted&quot;: false}, &quot;colors&quot;: {}, &quot;credits&quot;: {&quot;enabled&quot;: false}, &quot;drilldown&quot;: {}, &quot;exporting&quot;: {}, &quot;labels&quot;: {}, &quot;legend&quot;: {}, &quot;loading&quot;: {}, &quot;navigation&quot;: {}, &quot;pane&quot;: {}, &quot;plotOptions&quot;: {}, &quot;series&quot;: {}, &quot;subtitle&quot;: {&quot;text&quot;: &quot;1 means talking while 0 means non-talking&quot;}, &quot;title&quot;: {&quot;text&quot;: &quot;Prediction for video 1.mp4&quot;}, &quot;tooltip&quot;: {}, &quot;xAxis&quot;: {&quot;title&quot;: {&quot;text&quot;: &quot;Second&quot;}}, &quot;yAxis&quot;: {&quot;title&quot;: {&quot;text&quot;: &quot;Flag&quot;}}}; var chart = new Highcharts.Chart(option); var data = [{&quot;data&quot;: [[1.0, 0.8638039827346802], [2.0, 0.8766095638275146], [3.0, 0.8733783960342407], [4.0, 0.8832111358642578], [5.0, 0.9061653017997742], [6.0, 0.8972619771957397], [7.0, 0.873337984085083], [8.0, 0.8712981343269348], [9.0, 0.8779884576797485], [10.0, 0.8888360857963562], [11.0, 0.9068564772605896], [12.0, 0.90848708152771], [13.0, 0.9086014032363892], [14.0, 0.8716625571250916], [15.0, 0.8595634698867798], [16.0, 0.8736330270767212], [17.0, 0.8963184952735901], [18.0, 0.8871179819107056], [19.0, 0.88200443983078], [20.0, 0.8719789981842041], [21.0, 0.8419056534767151], [22.0, 0.8726983070373535], [23.0, 0.8735845685005188]], &quot;type&quot;: &quot;line&quot;, &quot;name&quot;: &quot;prediction&quot;}]; var dataLen = data.length; for (var ix = 0; ix &lt; dataLen; ix++) { chart.addSeries(data[ix]); } }); &lt;/script&gt; &lt;/body&gt; &lt;/html&gt;\" height=520 width=820></iframe>"
      ],
      "text/plain": [
       "<highcharts.highcharts.highcharts.Highchart at 0x28e0b92d988>"
      ]
     },
     "execution_count": 4,
     "metadata": {},
     "output_type": "execute_result"
    }
   ],
   "source": [
    "folder_name = '1'#type your folder path here, which contains openpose json files\n",
    "video_name = '1.mp4'#type your video path here, we want to know frame rate to create time labels \n",
    "model_name = 'final.h5'#type your model name here\n",
    "chart1 = draw(folder_name,video_name,model_name)#return a frame/label chart and saved a time/label json file\n",
    "chart1.save_file('chart_for_video_'+video_name)#save the chart \n",
    "chart1"
   ]
  },
  {
   "cell_type": "code",
   "execution_count": 5,
   "metadata": {},
   "outputs": [
    {
     "name": "stdout",
     "output_type": "stream",
     "text": [
      "2797\n",
      "[[1.0, 0.756384015083313], [2.0, 0.7920012474060059], [3.0, 0.7920012474060059], [4.0, 0.7920011281967163], [5.0, 0.7455164790153503], [6.0, 0.7492484450340271], [7.0, 0.7123009562492371], [8.0, 0.7061437368392944], [9.0, 0.6958250999450684], [10.0, 0.7326527237892151], [11.0, 0.7504825592041016], [12.0, 0.7440016269683838], [13.0, 0.7581945657730103], [14.0, 0.7920012474060059], [15.0, 0.7894208431243896], [16.0, 0.8199425935745239], [17.0, 0.8558235168457031], [18.0, 0.8392744660377502], [19.0, 0.8365793228149414], [20.0, 0.8559845685958862], [21.0, 0.8616189360618591], [22.0, 0.8597147464752197], [23.0, 0.861438512802124], [24.0, 0.8588628768920898], [25.0, 0.8597329258918762], [26.0, 0.8561543822288513], [27.0, 0.861635684967041], [28.0, 0.861635684967041], [29.0, 0.861635684967041], [30.0, 0.861635684967041], [31.0, 0.861635684967041], [32.0, 0.861635684967041], [33.0, 0.8616355657577515], [34.0, 0.861635684967041], [35.0, 0.861632764339447], [36.0, 0.8616353273391724], [37.0, 0.8581674098968506], [38.0, 0.8393658399581909], [39.0, 0.7952710390090942], [40.0, 0.7948997020721436], [41.0, 0.821399450302124], [42.0, 0.809746265411377], [43.0, 0.5878558158874512], [44.0, 0.4627767503261566], [45.0, 0.44234827160835266], [46.0, 0.4422299563884735], [47.0, 0.44222503900527954], [48.0, 0.44222503900527954], [49.0, 0.44222503900527954], [50.0, 0.44222503900527954], [51.0, 0.44222503900527954], [52.0, 0.44222503900527954], [53.0, 0.44222506880760193], [54.0, 0.44222503900527954], [55.0, 0.4422250986099243], [56.0, 0.44222503900527954], [57.0, 0.4535258412361145], [58.0, 0.44309619069099426], [59.0, 0.4534878134727478], [60.0, 0.4468899667263031], [61.0, 0.44614163041114807], [62.0, 0.46358567476272583], [63.0, 0.4620254933834076], [64.0, 0.44322559237480164], [65.0, 0.44710320234298706], [66.0, 0.47715023159980774], [67.0, 0.4474378228187561], [68.0, 0.45242518186569214], [69.0, 0.44222506880760193], [70.0, 0.44302085041999817], [71.0, 0.4495756924152374], [72.0, 0.44503551721572876], [73.0, 0.44222506880760193], [74.0, 0.44222506880760193], [75.0, 0.44222503900527954], [76.0, 0.44222503900527954], [77.0, 0.44222506880760193], [78.0, 0.4974828064441681], [79.0, 0.6777669191360474], [80.0, 0.7902374863624573], [81.0, 0.8040837049484253], [82.0, 0.7999953031539917], [83.0, 0.7983298301696777], [84.0, 0.7975894212722778], [85.0, 0.7992430925369263], [86.0, 0.8068704605102539], [87.0, 0.7973029017448425], [88.0, 0.7967754602432251], [89.0, 0.7941445708274841], [90.0, 0.7853163480758667], [91.0, 0.7652880549430847], [92.0, 0.7646241188049316], [93.0, 0.7646241188049316]]\n"
     ]
    },
    {
     "data": {
      "text/html": [
       "<iframe style=\"border:0;outline:none;overflow:hidden\" srcdoc=\"&lt;!DOCTYPE html&gt; &lt;html lang=&quot;en&quot;&gt; &lt;head&gt; &lt;meta charset=&quot;utf-8&quot; /&gt; &lt;link href=&quot;https://www.highcharts.com/highslide/highslide.css&quot; rel=&quot;stylesheet&quot; /&gt; &lt;script type=&quot;text/javascript&quot; src=&quot;https://ajax.googleapis.com/ajax/libs/jquery/1.9.1/jquery.min.js&quot;&gt;&lt;/script&gt; &lt;script type=&quot;text/javascript&quot; src=&quot;https://code.highcharts.com/6/highcharts.js&quot;&gt;&lt;/script&gt; &lt;script type=&quot;text/javascript&quot; src=&quot;https://code.highcharts.com/6/highcharts-more.js&quot;&gt;&lt;/script&gt; &lt;script type=&quot;text/javascript&quot; src=&quot;https://code.highcharts.com/6/modules/heatmap.js&quot;&gt;&lt;/script&gt; &lt;script type=&quot;text/javascript&quot; src=&quot;https://code.highcharts.com/6/modules/exporting.js&quot;&gt;&lt;/script&gt; &lt;/head&gt; &lt;body style=&quot;margin:0;padding:0&quot;&gt; &lt;div id=&quot;container&quot; style=&quot;&quot;&gt;Loading....&lt;/div&gt; &lt;script&gt; $(function(){ Highcharts.setOptions({&quot;global&quot;: {}, &quot;lang&quot;: {}}); var option = {&quot;chart&quot;: {&quot;renderTo&quot;: &quot;container&quot;, &quot;inverted&quot;: false}, &quot;colors&quot;: {}, &quot;credits&quot;: {&quot;enabled&quot;: false}, &quot;drilldown&quot;: {}, &quot;exporting&quot;: {}, &quot;labels&quot;: {}, &quot;legend&quot;: {}, &quot;loading&quot;: {}, &quot;navigation&quot;: {}, &quot;pane&quot;: {}, &quot;plotOptions&quot;: {}, &quot;series&quot;: {}, &quot;subtitle&quot;: {&quot;text&quot;: &quot;1 means talking while 0 means non-talking&quot;}, &quot;title&quot;: {&quot;text&quot;: &quot;Prediction for video 2.mp4&quot;}, &quot;tooltip&quot;: {}, &quot;xAxis&quot;: {&quot;title&quot;: {&quot;text&quot;: &quot;Second&quot;}}, &quot;yAxis&quot;: {&quot;title&quot;: {&quot;text&quot;: &quot;Flag&quot;}}}; var chart = new Highcharts.Chart(option); var data = [{&quot;data&quot;: [[1.0, 0.756384015083313], [2.0, 0.7920012474060059], [3.0, 0.7920012474060059], [4.0, 0.7920011281967163], [5.0, 0.7455164790153503], [6.0, 0.7492484450340271], [7.0, 0.7123009562492371], [8.0, 0.7061437368392944], [9.0, 0.6958250999450684], [10.0, 0.7326527237892151], [11.0, 0.7504825592041016], [12.0, 0.7440016269683838], [13.0, 0.7581945657730103], [14.0, 0.7920012474060059], [15.0, 0.7894208431243896], [16.0, 0.8199425935745239], [17.0, 0.8558235168457031], [18.0, 0.8392744660377502], [19.0, 0.8365793228149414], [20.0, 0.8559845685958862], [21.0, 0.8616189360618591], [22.0, 0.8597147464752197], [23.0, 0.861438512802124], [24.0, 0.8588628768920898], [25.0, 0.8597329258918762], [26.0, 0.8561543822288513], [27.0, 0.861635684967041], [28.0, 0.861635684967041], [29.0, 0.861635684967041], [30.0, 0.861635684967041], [31.0, 0.861635684967041], [32.0, 0.861635684967041], [33.0, 0.8616355657577515], [34.0, 0.861635684967041], [35.0, 0.861632764339447], [36.0, 0.8616353273391724], [37.0, 0.8581674098968506], [38.0, 0.8393658399581909], [39.0, 0.7952710390090942], [40.0, 0.7948997020721436], [41.0, 0.821399450302124], [42.0, 0.809746265411377], [43.0, 0.5878558158874512], [44.0, 0.4627767503261566], [45.0, 0.44234827160835266], [46.0, 0.4422299563884735], [47.0, 0.44222503900527954], [48.0, 0.44222503900527954], [49.0, 0.44222503900527954], [50.0, 0.44222503900527954], [51.0, 0.44222503900527954], [52.0, 0.44222503900527954], [53.0, 0.44222506880760193], [54.0, 0.44222503900527954], [55.0, 0.4422250986099243], [56.0, 0.44222503900527954], [57.0, 0.4535258412361145], [58.0, 0.44309619069099426], [59.0, 0.4534878134727478], [60.0, 0.4468899667263031], [61.0, 0.44614163041114807], [62.0, 0.46358567476272583], [63.0, 0.4620254933834076], [64.0, 0.44322559237480164], [65.0, 0.44710320234298706], [66.0, 0.47715023159980774], [67.0, 0.4474378228187561], [68.0, 0.45242518186569214], [69.0, 0.44222506880760193], [70.0, 0.44302085041999817], [71.0, 0.4495756924152374], [72.0, 0.44503551721572876], [73.0, 0.44222506880760193], [74.0, 0.44222506880760193], [75.0, 0.44222503900527954], [76.0, 0.44222503900527954], [77.0, 0.44222506880760193], [78.0, 0.4974828064441681], [79.0, 0.6777669191360474], [80.0, 0.7902374863624573], [81.0, 0.8040837049484253], [82.0, 0.7999953031539917], [83.0, 0.7983298301696777], [84.0, 0.7975894212722778], [85.0, 0.7992430925369263], [86.0, 0.8068704605102539], [87.0, 0.7973029017448425], [88.0, 0.7967754602432251], [89.0, 0.7941445708274841], [90.0, 0.7853163480758667], [91.0, 0.7652880549430847], [92.0, 0.7646241188049316], [93.0, 0.7646241188049316]], &quot;type&quot;: &quot;line&quot;, &quot;name&quot;: &quot;prediction&quot;}]; var dataLen = data.length; for (var ix = 0; ix &lt; dataLen; ix++) { chart.addSeries(data[ix]); } }); &lt;/script&gt; &lt;/body&gt; &lt;/html&gt;\" height=520 width=820></iframe>"
      ],
      "text/plain": [
       "<highcharts.highcharts.highcharts.Highchart at 0x28e0d14e188>"
      ]
     },
     "execution_count": 5,
     "metadata": {},
     "output_type": "execute_result"
    }
   ],
   "source": [
    "folder_name = '2'#type your folder path here, which contains openpose json files\n",
    "video_name = '2.mp4'#type your video path here, we want to know frame rate to create time labels \n",
    "model_name = 'final.h5'#type your model name here\n",
    "chart1 = draw(folder_name,video_name,model_name)#return a frame/label chart and saved a time/label json file\n",
    "chart1.save_file('chart_for_video_'+video_name)#save the chart \n",
    "chart1"
   ]
  },
  {
   "cell_type": "code",
   "execution_count": 6,
   "metadata": {
    "scrolled": false
   },
   "outputs": [
    {
     "name": "stdout",
     "output_type": "stream",
     "text": [
      "2392\n",
      "[[1.0, 0.7515640258789062], [2.0, 0.7487304210662842], [3.0, 0.7602242231369019], [4.0, 0.7840092778205872], [5.0, 0.8338911533355713], [6.0, 0.8387223482131958], [7.0, 0.8475663661956787], [8.0, 0.8409662246704102], [9.0, 0.715920090675354], [10.0, 0.3984103798866272], [11.0, 0.3426392376422882], [12.0, 0.33530208468437195], [13.0, 0.37121960520744324], [14.0, 0.5008561611175537], [15.0, 0.6102865934371948], [16.0, 0.762194812297821], [17.0, 0.5306972861289978], [18.0, 0.5971373915672302], [19.0, 0.8262979984283447], [20.0, 0.884749174118042], [21.0, 0.9086089730262756], [22.0, 0.9086100459098816], [23.0, 0.8935744166374207], [24.0, 0.8626834154129028], [25.0, 0.8668770790100098], [26.0, 0.8695667386054993], [27.0, 0.8214773535728455], [28.0, 0.4461328983306885], [29.0, 0.4562254846096039], [30.0, 0.8064184188842773], [31.0, 0.8380129933357239], [32.0, 0.8573476672172546], [33.0, 0.7863193154335022], [34.0, 0.5999335050582886], [35.0, 0.5714821219444275], [36.0, 0.7038888931274414], [37.0, 0.8305420279502869], [38.0, 0.8682609796524048], [39.0, 0.8684748411178589], [40.0, 0.8630076050758362], [41.0, 0.8479093909263611], [42.0, 0.8296082019805908], [43.0, 0.8728630542755127], [44.0, 0.8750233054161072], [45.0, 0.8715366125106812], [46.0, 0.8817526698112488], [47.0, 0.8713959455490112], [48.0, 0.8731478452682495], [49.0, 0.8769397139549255], [50.0, 0.8684736490249634], [51.0, 0.797619640827179], [52.0, 0.7512390613555908], [53.0, 0.686792254447937], [54.0, 0.6444383859634399], [55.0, 0.7810587882995605], [56.0, 0.8732592463493347], [57.0, 0.8751850128173828], [58.0, 0.8751097321510315], [59.0, 0.8731825947761536], [60.0, 0.8731496334075928], [61.0, 0.8730859756469727], [62.0, 0.8655202984809875], [63.0, 0.7832646369934082], [64.0, 0.7848384380340576], [65.0, 0.8546117544174194], [66.0, 0.8715447783470154], [67.0, 0.7425508499145508], [68.0, 0.39495885372161865], [69.0, 0.5092652440071106], [70.0, 0.8182563781738281], [71.0, 0.8388705253601074], [72.0, 0.8083599209785461], [73.0, 0.6039927005767822], [74.0, 0.3339166045188904], [75.0, 0.43891170620918274], [76.0, 0.7717705965042114], [77.0, 0.8700141906738281], [78.0, 0.873340368270874], [79.0, 0.8584319353103638]]\n"
     ]
    },
    {
     "data": {
      "text/html": [
       "<iframe style=\"border:0;outline:none;overflow:hidden\" srcdoc=\"&lt;!DOCTYPE html&gt; &lt;html lang=&quot;en&quot;&gt; &lt;head&gt; &lt;meta charset=&quot;utf-8&quot; /&gt; &lt;link href=&quot;https://www.highcharts.com/highslide/highslide.css&quot; rel=&quot;stylesheet&quot; /&gt; &lt;script type=&quot;text/javascript&quot; src=&quot;https://ajax.googleapis.com/ajax/libs/jquery/1.9.1/jquery.min.js&quot;&gt;&lt;/script&gt; &lt;script type=&quot;text/javascript&quot; src=&quot;https://code.highcharts.com/6/highcharts.js&quot;&gt;&lt;/script&gt; &lt;script type=&quot;text/javascript&quot; src=&quot;https://code.highcharts.com/6/highcharts-more.js&quot;&gt;&lt;/script&gt; &lt;script type=&quot;text/javascript&quot; src=&quot;https://code.highcharts.com/6/modules/heatmap.js&quot;&gt;&lt;/script&gt; &lt;script type=&quot;text/javascript&quot; src=&quot;https://code.highcharts.com/6/modules/exporting.js&quot;&gt;&lt;/script&gt; &lt;/head&gt; &lt;body style=&quot;margin:0;padding:0&quot;&gt; &lt;div id=&quot;container&quot; style=&quot;&quot;&gt;Loading....&lt;/div&gt; &lt;script&gt; $(function(){ Highcharts.setOptions({&quot;global&quot;: {}, &quot;lang&quot;: {}}); var option = {&quot;chart&quot;: {&quot;renderTo&quot;: &quot;container&quot;, &quot;inverted&quot;: false}, &quot;colors&quot;: {}, &quot;credits&quot;: {&quot;enabled&quot;: false}, &quot;drilldown&quot;: {}, &quot;exporting&quot;: {}, &quot;labels&quot;: {}, &quot;legend&quot;: {}, &quot;loading&quot;: {}, &quot;navigation&quot;: {}, &quot;pane&quot;: {}, &quot;plotOptions&quot;: {}, &quot;series&quot;: {}, &quot;subtitle&quot;: {&quot;text&quot;: &quot;1 means talking while 0 means non-talking&quot;}, &quot;title&quot;: {&quot;text&quot;: &quot;Prediction for video 3.mp4&quot;}, &quot;tooltip&quot;: {}, &quot;xAxis&quot;: {&quot;title&quot;: {&quot;text&quot;: &quot;Second&quot;}}, &quot;yAxis&quot;: {&quot;title&quot;: {&quot;text&quot;: &quot;Flag&quot;}}}; var chart = new Highcharts.Chart(option); var data = [{&quot;data&quot;: [[1.0, 0.7515640258789062], [2.0, 0.7487304210662842], [3.0, 0.7602242231369019], [4.0, 0.7840092778205872], [5.0, 0.8338911533355713], [6.0, 0.8387223482131958], [7.0, 0.8475663661956787], [8.0, 0.8409662246704102], [9.0, 0.715920090675354], [10.0, 0.3984103798866272], [11.0, 0.3426392376422882], [12.0, 0.33530208468437195], [13.0, 0.37121960520744324], [14.0, 0.5008561611175537], [15.0, 0.6102865934371948], [16.0, 0.762194812297821], [17.0, 0.5306972861289978], [18.0, 0.5971373915672302], [19.0, 0.8262979984283447], [20.0, 0.884749174118042], [21.0, 0.9086089730262756], [22.0, 0.9086100459098816], [23.0, 0.8935744166374207], [24.0, 0.8626834154129028], [25.0, 0.8668770790100098], [26.0, 0.8695667386054993], [27.0, 0.8214773535728455], [28.0, 0.4461328983306885], [29.0, 0.4562254846096039], [30.0, 0.8064184188842773], [31.0, 0.8380129933357239], [32.0, 0.8573476672172546], [33.0, 0.7863193154335022], [34.0, 0.5999335050582886], [35.0, 0.5714821219444275], [36.0, 0.7038888931274414], [37.0, 0.8305420279502869], [38.0, 0.8682609796524048], [39.0, 0.8684748411178589], [40.0, 0.8630076050758362], [41.0, 0.8479093909263611], [42.0, 0.8296082019805908], [43.0, 0.8728630542755127], [44.0, 0.8750233054161072], [45.0, 0.8715366125106812], [46.0, 0.8817526698112488], [47.0, 0.8713959455490112], [48.0, 0.8731478452682495], [49.0, 0.8769397139549255], [50.0, 0.8684736490249634], [51.0, 0.797619640827179], [52.0, 0.7512390613555908], [53.0, 0.686792254447937], [54.0, 0.6444383859634399], [55.0, 0.7810587882995605], [56.0, 0.8732592463493347], [57.0, 0.8751850128173828], [58.0, 0.8751097321510315], [59.0, 0.8731825947761536], [60.0, 0.8731496334075928], [61.0, 0.8730859756469727], [62.0, 0.8655202984809875], [63.0, 0.7832646369934082], [64.0, 0.7848384380340576], [65.0, 0.8546117544174194], [66.0, 0.8715447783470154], [67.0, 0.7425508499145508], [68.0, 0.39495885372161865], [69.0, 0.5092652440071106], [70.0, 0.8182563781738281], [71.0, 0.8388705253601074], [72.0, 0.8083599209785461], [73.0, 0.6039927005767822], [74.0, 0.3339166045188904], [75.0, 0.43891170620918274], [76.0, 0.7717705965042114], [77.0, 0.8700141906738281], [78.0, 0.873340368270874], [79.0, 0.8584319353103638]], &quot;type&quot;: &quot;line&quot;, &quot;name&quot;: &quot;prediction&quot;}]; var dataLen = data.length; for (var ix = 0; ix &lt; dataLen; ix++) { chart.addSeries(data[ix]); } }); &lt;/script&gt; &lt;/body&gt; &lt;/html&gt;\" height=520 width=820></iframe>"
      ],
      "text/plain": [
       "<highcharts.highcharts.highcharts.Highchart at 0x28e602a7248>"
      ]
     },
     "execution_count": 6,
     "metadata": {},
     "output_type": "execute_result"
    }
   ],
   "source": [
    "folder_name = '3'#type your folder path here, which contains openpose json files\n",
    "video_name = '3.mp4'#type your video path here, we want to know frame rate to create time labels \n",
    "model_name = 'final.h5'#type your model name here\n",
    "chart1 = draw(folder_name,video_name,model_name)#return a frame/label chart and saved a time/label json file\n",
    "chart1.save_file('chart_for_video_'+video_name)#save the chart \n",
    "chart1"
   ]
  },
  {
   "cell_type": "code",
   "execution_count": 7,
   "metadata": {
    "scrolled": false
   },
   "outputs": [
    {
     "name": "stdout",
     "output_type": "stream",
     "text": [
      "2980\n",
      "[[1.0, 0.6035168766975403], [2.0, 0.5987865328788757], [3.0, 0.5842889547348022], [4.0, 0.6123222708702087], [5.0, 0.5967644453048706], [6.0, 0.5837297439575195], [7.0, 0.5837297439575195], [8.0, 0.5776056051254272], [9.0, 0.5837275981903076], [10.0, 0.5286592841148376], [11.0, 0.5487819314002991], [12.0, 0.5243111848831177], [13.0, 0.4980601370334625], [14.0, 0.5420829653739929], [15.0, 0.5218074321746826], [16.0, 0.5466016530990601], [17.0, 0.5663735270500183], [18.0, 0.5837297439575195], [19.0, 0.5837333798408508], [20.0, 0.5837347507476807], [21.0, 0.5837297439575195], [22.0, 0.5837297439575195], [23.0, 0.5837101936340332], [24.0, 0.5296322107315063], [25.0, 0.4977944493293762], [26.0, 0.49782225489616394], [27.0, 0.4977940618991852], [28.0, 0.49778687953948975], [29.0, 0.49779048562049866], [30.0, 0.5010179281234741], [31.0, 0.4977872967720032], [32.0, 0.49778077006340027], [33.0, 0.4977896213531494], [34.0, 0.49779003858566284], [35.0, 0.497790664434433], [36.0, 0.5350268483161926], [37.0, 0.5837116837501526], [38.0, 0.5618792176246643], [39.0, 0.5820313692092896], [40.0, 0.5837293863296509], [41.0, 0.5382131934165955], [42.0, 0.5148916244506836], [43.0, 0.5492287874221802], [44.0, 0.53169846534729], [45.0, 0.4978090822696686], [46.0, 0.497791588306427], [47.0, 0.4977908134460449], [48.0, 0.49777916073799133], [49.0, 0.49779078364372253], [50.0, 0.49779072403907776], [51.0, 0.49779435992240906], [52.0, 0.4977908730506897], [53.0, 0.49826762080192566], [54.0, 0.5708330273628235], [55.0, 0.5837297439575195], [56.0, 0.5836943984031677], [57.0, 0.48014190793037415], [58.0, 0.28070029616355896], [59.0, 0.20705318450927734], [60.0, 0.15774747729301453], [61.0, 0.12982353568077087], [62.0, 0.12497970461845398], [63.0, 0.12683629989624023], [64.0, 0.12856999039649963], [65.0, 0.13183444738388062], [66.0, 0.15768641233444214], [67.0, 0.08439949154853821], [68.0, 0.017808109521865845], [69.0, 0.03645122051239014], [70.0, 0.2487417459487915], [71.0, 0.1982715129852295], [72.0, 0.12079215049743652], [73.0, 0.06551375985145569], [74.0, 0.039682596921920776], [75.0, 0.20771899819374084], [76.0, 0.207709401845932], [77.0, 0.207709401845932], [78.0, 0.207709401845932], [79.0, 0.207709401845932], [80.0, 0.207709401845932], [81.0, 0.21194583177566528], [82.0, 0.22748100757598877], [83.0, 0.21785098314285278], [84.0, 0.21232342720031738], [85.0, 0.2080746591091156], [86.0, 0.2076842486858368], [87.0, 0.20558086037635803], [88.0, 0.207709401845932], [89.0, 0.207709401845932], [90.0, 0.207709401845932], [91.0, 0.20770931243896484], [92.0, 0.155632883310318], [93.0, 0.12986713647842407], [94.0, 0.12716206908226013], [95.0, 0.11981365084648132], [96.0, 0.07778501510620117], [97.0, 0.019566744565963745], [98.0, 0.019566692411899567], [99.0, 0.019566791132092476]]\n"
     ]
    },
    {
     "data": {
      "text/html": [
       "<iframe style=\"border:0;outline:none;overflow:hidden\" srcdoc=\"&lt;!DOCTYPE html&gt; &lt;html lang=&quot;en&quot;&gt; &lt;head&gt; &lt;meta charset=&quot;utf-8&quot; /&gt; &lt;link href=&quot;https://www.highcharts.com/highslide/highslide.css&quot; rel=&quot;stylesheet&quot; /&gt; &lt;script type=&quot;text/javascript&quot; src=&quot;https://ajax.googleapis.com/ajax/libs/jquery/1.9.1/jquery.min.js&quot;&gt;&lt;/script&gt; &lt;script type=&quot;text/javascript&quot; src=&quot;https://code.highcharts.com/6/highcharts.js&quot;&gt;&lt;/script&gt; &lt;script type=&quot;text/javascript&quot; src=&quot;https://code.highcharts.com/6/highcharts-more.js&quot;&gt;&lt;/script&gt; &lt;script type=&quot;text/javascript&quot; src=&quot;https://code.highcharts.com/6/modules/heatmap.js&quot;&gt;&lt;/script&gt; &lt;script type=&quot;text/javascript&quot; src=&quot;https://code.highcharts.com/6/modules/exporting.js&quot;&gt;&lt;/script&gt; &lt;/head&gt; &lt;body style=&quot;margin:0;padding:0&quot;&gt; &lt;div id=&quot;container&quot; style=&quot;&quot;&gt;Loading....&lt;/div&gt; &lt;script&gt; $(function(){ Highcharts.setOptions({&quot;global&quot;: {}, &quot;lang&quot;: {}}); var option = {&quot;chart&quot;: {&quot;renderTo&quot;: &quot;container&quot;, &quot;inverted&quot;: false}, &quot;colors&quot;: {}, &quot;credits&quot;: {&quot;enabled&quot;: false}, &quot;drilldown&quot;: {}, &quot;exporting&quot;: {}, &quot;labels&quot;: {}, &quot;legend&quot;: {}, &quot;loading&quot;: {}, &quot;navigation&quot;: {}, &quot;pane&quot;: {}, &quot;plotOptions&quot;: {}, &quot;series&quot;: {}, &quot;subtitle&quot;: {&quot;text&quot;: &quot;1 means talking while 0 means non-talking&quot;}, &quot;title&quot;: {&quot;text&quot;: &quot;Prediction for video 4.mp4&quot;}, &quot;tooltip&quot;: {}, &quot;xAxis&quot;: {&quot;title&quot;: {&quot;text&quot;: &quot;Second&quot;}}, &quot;yAxis&quot;: {&quot;title&quot;: {&quot;text&quot;: &quot;Flag&quot;}}}; var chart = new Highcharts.Chart(option); var data = [{&quot;data&quot;: [[1.0, 0.6035168766975403], [2.0, 0.5987865328788757], [3.0, 0.5842889547348022], [4.0, 0.6123222708702087], [5.0, 0.5967644453048706], [6.0, 0.5837297439575195], [7.0, 0.5837297439575195], [8.0, 0.5776056051254272], [9.0, 0.5837275981903076], [10.0, 0.5286592841148376], [11.0, 0.5487819314002991], [12.0, 0.5243111848831177], [13.0, 0.4980601370334625], [14.0, 0.5420829653739929], [15.0, 0.5218074321746826], [16.0, 0.5466016530990601], [17.0, 0.5663735270500183], [18.0, 0.5837297439575195], [19.0, 0.5837333798408508], [20.0, 0.5837347507476807], [21.0, 0.5837297439575195], [22.0, 0.5837297439575195], [23.0, 0.5837101936340332], [24.0, 0.5296322107315063], [25.0, 0.4977944493293762], [26.0, 0.49782225489616394], [27.0, 0.4977940618991852], [28.0, 0.49778687953948975], [29.0, 0.49779048562049866], [30.0, 0.5010179281234741], [31.0, 0.4977872967720032], [32.0, 0.49778077006340027], [33.0, 0.4977896213531494], [34.0, 0.49779003858566284], [35.0, 0.497790664434433], [36.0, 0.5350268483161926], [37.0, 0.5837116837501526], [38.0, 0.5618792176246643], [39.0, 0.5820313692092896], [40.0, 0.5837293863296509], [41.0, 0.5382131934165955], [42.0, 0.5148916244506836], [43.0, 0.5492287874221802], [44.0, 0.53169846534729], [45.0, 0.4978090822696686], [46.0, 0.497791588306427], [47.0, 0.4977908134460449], [48.0, 0.49777916073799133], [49.0, 0.49779078364372253], [50.0, 0.49779072403907776], [51.0, 0.49779435992240906], [52.0, 0.4977908730506897], [53.0, 0.49826762080192566], [54.0, 0.5708330273628235], [55.0, 0.5837297439575195], [56.0, 0.5836943984031677], [57.0, 0.48014190793037415], [58.0, 0.28070029616355896], [59.0, 0.20705318450927734], [60.0, 0.15774747729301453], [61.0, 0.12982353568077087], [62.0, 0.12497970461845398], [63.0, 0.12683629989624023], [64.0, 0.12856999039649963], [65.0, 0.13183444738388062], [66.0, 0.15768641233444214], [67.0, 0.08439949154853821], [68.0, 0.017808109521865845], [69.0, 0.03645122051239014], [70.0, 0.2487417459487915], [71.0, 0.1982715129852295], [72.0, 0.12079215049743652], [73.0, 0.06551375985145569], [74.0, 0.039682596921920776], [75.0, 0.20771899819374084], [76.0, 0.207709401845932], [77.0, 0.207709401845932], [78.0, 0.207709401845932], [79.0, 0.207709401845932], [80.0, 0.207709401845932], [81.0, 0.21194583177566528], [82.0, 0.22748100757598877], [83.0, 0.21785098314285278], [84.0, 0.21232342720031738], [85.0, 0.2080746591091156], [86.0, 0.2076842486858368], [87.0, 0.20558086037635803], [88.0, 0.207709401845932], [89.0, 0.207709401845932], [90.0, 0.207709401845932], [91.0, 0.20770931243896484], [92.0, 0.155632883310318], [93.0, 0.12986713647842407], [94.0, 0.12716206908226013], [95.0, 0.11981365084648132], [96.0, 0.07778501510620117], [97.0, 0.019566744565963745], [98.0, 0.019566692411899567], [99.0, 0.019566791132092476]], &quot;type&quot;: &quot;line&quot;, &quot;name&quot;: &quot;prediction&quot;}]; var dataLen = data.length; for (var ix = 0; ix &lt; dataLen; ix++) { chart.addSeries(data[ix]); } }); &lt;/script&gt; &lt;/body&gt; &lt;/html&gt;\" height=520 width=820></iframe>"
      ],
      "text/plain": [
       "<highcharts.highcharts.highcharts.Highchart at 0x28e566c7a88>"
      ]
     },
     "execution_count": 7,
     "metadata": {},
     "output_type": "execute_result"
    }
   ],
   "source": [
    "folder_name = '4'#type your folder path here, which contains openpose json files\n",
    "video_name = '4.mp4'#type your video path here, we want to know frame rate to create time labels \n",
    "model_name = 'final.h5'#type your model name here\n",
    "chart1 = draw(folder_name,video_name,model_name)#return a frame/label chart and saved a time/label json file\n",
    "chart1.save_file('chart_for_video_'+video_name)#save the chart \n",
    "chart1"
   ]
  },
  {
   "cell_type": "code",
   "execution_count": 8,
   "metadata": {},
   "outputs": [
    {
     "name": "stdout",
     "output_type": "stream",
     "text": [
      "1816\n",
      "[[1.0, 0.026777684688568115], [2.0, 0.02484115958213806], [3.0, 0.011576861143112183], [4.0, 0.006020694971084595], [5.0, 0.007784545421600342], [6.0, 0.03992530703544617], [7.0, 0.06753212213516235], [8.0, 0.06522685289382935], [9.0, 0.0858817994594574], [10.0, 0.06477612257003784], [11.0, 0.06831875443458557], [12.0, 0.06485912203788757], [13.0, 0.06813359260559082], [14.0, 0.0800815224647522], [15.0, 0.0770384669303894], [16.0, 0.033513009548187256], [17.0, 0.42926251888275146], [18.0, 0.7665005922317505], [19.0, 0.1741722822189331], [20.0, 0.06024286150932312], [21.0, 0.22291702032089233], [22.0, 0.2527516186237335], [23.0, 0.18900829553604126], [24.0, 0.170061856508255], [25.0, 0.07622891664505005], [26.0, 0.04960915446281433], [27.0, 0.06166231632232666], [28.0, 0.06465032696723938], [29.0, 0.09586715698242188], [30.0, 0.09529420733451843], [31.0, 0.08412644267082214], [32.0, 0.1371784806251526], [33.0, 0.039201050996780396], [34.0, 0.5358226299285889], [35.0, 0.31526923179626465], [36.0, 0.054399847984313965], [37.0, 0.32883220911026], [38.0, 0.716661274433136], [39.0, 0.9098891019821167], [40.0, 0.7430307865142822], [41.0, 0.2653540372848511], [42.0, 0.2618066668510437], [43.0, 0.03737512230873108], [44.0, 0.03161469101905823], [45.0, 0.006021559238433838], [46.0, 0.007124751806259155], [47.0, 0.019000262022018433], [48.0, 0.16482004523277283], [49.0, 0.3562370240688324], [50.0, 0.06079015135765076], [51.0, 0.03816533088684082], [52.0, 0.7598999738693237], [53.0, 0.8615388870239258], [54.0, 0.8835389614105225], [55.0, 0.0001253187656402588], [56.0, 9.247660636901855e-05], [57.0, 0.6380469799041748], [58.0, 0.7116120457649231], [59.0, 0.701375424861908], [60.0, 0.6858464479446411]]\n"
     ]
    },
    {
     "data": {
      "text/html": [
       "<iframe style=\"border:0;outline:none;overflow:hidden\" srcdoc=\"&lt;!DOCTYPE html&gt; &lt;html lang=&quot;en&quot;&gt; &lt;head&gt; &lt;meta charset=&quot;utf-8&quot; /&gt; &lt;link href=&quot;https://www.highcharts.com/highslide/highslide.css&quot; rel=&quot;stylesheet&quot; /&gt; &lt;script type=&quot;text/javascript&quot; src=&quot;https://ajax.googleapis.com/ajax/libs/jquery/1.9.1/jquery.min.js&quot;&gt;&lt;/script&gt; &lt;script type=&quot;text/javascript&quot; src=&quot;https://code.highcharts.com/6/highcharts.js&quot;&gt;&lt;/script&gt; &lt;script type=&quot;text/javascript&quot; src=&quot;https://code.highcharts.com/6/highcharts-more.js&quot;&gt;&lt;/script&gt; &lt;script type=&quot;text/javascript&quot; src=&quot;https://code.highcharts.com/6/modules/heatmap.js&quot;&gt;&lt;/script&gt; &lt;script type=&quot;text/javascript&quot; src=&quot;https://code.highcharts.com/6/modules/exporting.js&quot;&gt;&lt;/script&gt; &lt;/head&gt; &lt;body style=&quot;margin:0;padding:0&quot;&gt; &lt;div id=&quot;container&quot; style=&quot;&quot;&gt;Loading....&lt;/div&gt; &lt;script&gt; $(function(){ Highcharts.setOptions({&quot;global&quot;: {}, &quot;lang&quot;: {}}); var option = {&quot;chart&quot;: {&quot;renderTo&quot;: &quot;container&quot;, &quot;inverted&quot;: false}, &quot;colors&quot;: {}, &quot;credits&quot;: {&quot;enabled&quot;: false}, &quot;drilldown&quot;: {}, &quot;exporting&quot;: {}, &quot;labels&quot;: {}, &quot;legend&quot;: {}, &quot;loading&quot;: {}, &quot;navigation&quot;: {}, &quot;pane&quot;: {}, &quot;plotOptions&quot;: {}, &quot;series&quot;: {}, &quot;subtitle&quot;: {&quot;text&quot;: &quot;1 means talking while 0 means non-talking&quot;}, &quot;title&quot;: {&quot;text&quot;: &quot;Prediction for video 5.mp4&quot;}, &quot;tooltip&quot;: {}, &quot;xAxis&quot;: {&quot;title&quot;: {&quot;text&quot;: &quot;Second&quot;}}, &quot;yAxis&quot;: {&quot;title&quot;: {&quot;text&quot;: &quot;Flag&quot;}}}; var chart = new Highcharts.Chart(option); var data = [{&quot;data&quot;: [[1.0, 0.026777684688568115], [2.0, 0.02484115958213806], [3.0, 0.011576861143112183], [4.0, 0.006020694971084595], [5.0, 0.007784545421600342], [6.0, 0.03992530703544617], [7.0, 0.06753212213516235], [8.0, 0.06522685289382935], [9.0, 0.0858817994594574], [10.0, 0.06477612257003784], [11.0, 0.06831875443458557], [12.0, 0.06485912203788757], [13.0, 0.06813359260559082], [14.0, 0.0800815224647522], [15.0, 0.0770384669303894], [16.0, 0.033513009548187256], [17.0, 0.42926251888275146], [18.0, 0.7665005922317505], [19.0, 0.1741722822189331], [20.0, 0.06024286150932312], [21.0, 0.22291702032089233], [22.0, 0.2527516186237335], [23.0, 0.18900829553604126], [24.0, 0.170061856508255], [25.0, 0.07622891664505005], [26.0, 0.04960915446281433], [27.0, 0.06166231632232666], [28.0, 0.06465032696723938], [29.0, 0.09586715698242188], [30.0, 0.09529420733451843], [31.0, 0.08412644267082214], [32.0, 0.1371784806251526], [33.0, 0.039201050996780396], [34.0, 0.5358226299285889], [35.0, 0.31526923179626465], [36.0, 0.054399847984313965], [37.0, 0.32883220911026], [38.0, 0.716661274433136], [39.0, 0.9098891019821167], [40.0, 0.7430307865142822], [41.0, 0.2653540372848511], [42.0, 0.2618066668510437], [43.0, 0.03737512230873108], [44.0, 0.03161469101905823], [45.0, 0.006021559238433838], [46.0, 0.007124751806259155], [47.0, 0.019000262022018433], [48.0, 0.16482004523277283], [49.0, 0.3562370240688324], [50.0, 0.06079015135765076], [51.0, 0.03816533088684082], [52.0, 0.7598999738693237], [53.0, 0.8615388870239258], [54.0, 0.8835389614105225], [55.0, 0.0001253187656402588], [56.0, 9.247660636901855e-05], [57.0, 0.6380469799041748], [58.0, 0.7116120457649231], [59.0, 0.701375424861908], [60.0, 0.6858464479446411]], &quot;type&quot;: &quot;line&quot;, &quot;name&quot;: &quot;prediction&quot;}]; var dataLen = data.length; for (var ix = 0; ix &lt; dataLen; ix++) { chart.addSeries(data[ix]); } }); &lt;/script&gt; &lt;/body&gt; &lt;/html&gt;\" height=520 width=820></iframe>"
      ],
      "text/plain": [
       "<highcharts.highcharts.highcharts.Highchart at 0x290074fe2c8>"
      ]
     },
     "execution_count": 8,
     "metadata": {},
     "output_type": "execute_result"
    }
   ],
   "source": [
    "folder_name = '5'#type your folder path here, which contains openpose json files\n",
    "video_name = '5.mp4'#type your video path here, we want to know frame rate to create time labels \n",
    "model_name = 'final.h5'#type your model name here\n",
    "chart1 = draw(folder_name,video_name,model_name)#return a frame/label chart and saved a time/label json file\n",
    "chart1.save_file('chart_for_video_'+video_name)#save the chart \n",
    "chart1"
   ]
  },
  {
   "cell_type": "code",
   "execution_count": null,
   "metadata": {},
   "outputs": [],
   "source": []
  }
 ],
 "metadata": {
  "kernelspec": {
   "display_name": "Python 3",
   "language": "python",
   "name": "python3"
  },
  "language_info": {
   "codemirror_mode": {
    "name": "ipython",
    "version": 3
   },
   "file_extension": ".py",
   "mimetype": "text/x-python",
   "name": "python",
   "nbconvert_exporter": "python",
   "pygments_lexer": "ipython3",
   "version": "3.7.4"
  }
 },
 "nbformat": 4,
 "nbformat_minor": 2
}
