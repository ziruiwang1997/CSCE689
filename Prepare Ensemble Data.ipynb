{
 "cells": [
  {
   "cell_type": "code",
   "execution_count": 1,
   "metadata": {},
   "outputs": [
    {
     "name": "stderr",
     "output_type": "stream",
     "text": [
      "Using TensorFlow backend.\n"
     ]
    }
   ],
   "source": [
    "import pandas as pd\n",
    "import numpy as np\n",
    "import os\n",
    "import json\n",
    "import csv\n",
    "import pandas as pd\n",
    "import sklearn\n",
    "from sklearn.model_selection import train_test_split\n",
    "from keras.preprocessing import sequence\n",
    "from keras.models import Sequential\n",
    "from keras.layers import Bidirectional, Embedding, LSTM\n",
    "from keras.layers.core import Dense, Dropout, Activation, Flatten\n",
    "from keras import backend as kb\n",
    "from keras import initializers\n",
    "from keras.callbacks import ReduceLROnPlateau\n",
    "from keras.models import load_model\n",
    "#!pip install python_highcharts\n",
    "from highcharts import Highchart\n",
    "import json"
   ]
  },
  {
   "cell_type": "code",
   "execution_count": 2,
   "metadata": {},
   "outputs": [],
   "source": [
    "def ProcessSilentData(x_train, x_test):\n",
    "    def proc(x_train_silent):\n",
    "        length = len(x_train_silent)\n",
    "        temp = np.zeros((length, 10,46))\n",
    "        for i in range(len(x_train_silent)):\n",
    "            for j in range(10):\n",
    "                for k in range(190):\n",
    "                    if 146 <= k <= 185:\n",
    "                        temp[i][j][k-146] = x_train_silent[i][j][k]\n",
    "                temp[i][j][40] = x_train_silent[i][j][67]#face\n",
    "                temp[i][j][41] = x_train_silent[i][j][68]\n",
    "                temp[i][j][42] = x_train_silent[i][j][8]#left hand\n",
    "                temp[i][j][43] = x_train_silent[i][j][9]\n",
    "                temp[i][j][44] = x_train_silent[i][j][14]#right hand\n",
    "                temp[i][j][45] = x_train_silent[i][j][15]\n",
    "                \n",
    "        return temp\n",
    "    x_train_40 = proc(x_train)\n",
    "    x_test_40 = proc(x_test)\n",
    "    x_train = x_train_40\n",
    "    x_test = x_test_40\n",
    "\n",
    "    #define distance between two points\n",
    "    def calDis(material, a, b):\n",
    "        #material = x_train[0][0]\n",
    "        ax = (a-1) *2\n",
    "        ay = ax + 1\n",
    "        bx = (b-1) *2\n",
    "        by = bx + 1\n",
    "        d1 = abs(material[ax] - material[bx])\n",
    "        d2 = abs(material[ay] - material[by])\n",
    "        dis = np.sqrt(d1*d1 + d2*d2)\n",
    "        return dis\n",
    "\n",
    "    def getSilent(x):#x_train[0][0]\n",
    "        mouthLen = calDis(x, 13, 17)\n",
    "        sideLen = calDis(x, 1, 12) + calDis(x, 1, 2) + calDis(x, 8, 7) + calDis(x, 6, 7)\n",
    "        mouthWid = calDis(x, 14, 20) + calDis(x, 15, 19) + calDis(x, 16, 18)\n",
    "        handLen = calDis(x, 21, 22) + calDis(x, 21, 23)\n",
    "        \n",
    "        \n",
    "        if mouthLen == 0:\n",
    "            silentWeight = 0\n",
    "        else:\n",
    "            silentWeight = mouthWid / mouthLen\n",
    "        if sideLen == 0:\n",
    "            sideWeight = 0\n",
    "            handWeight = 0\n",
    "        else:\n",
    "            sideWeight = mouthWid / sideLen\n",
    "            handWeight = handLen / sideLen\n",
    "            \n",
    "        \n",
    "\n",
    "        return [sideWeight,silentWeight]\n",
    "\n",
    "    def proX(x_train):\n",
    "        pro_x_train = np.zeros((len(x_train), 10, 4))\n",
    "        for i in range(len(x_train)):\n",
    "            for j in range(len(x_train[i])):\n",
    "                var0, var1 = getSilent(x_train[i][j])\n",
    "                pro_x_train[i][j][0] = var0\n",
    "                pro_x_train[i][j][1] = var1\n",
    "        \n",
    "        \n",
    "        \n",
    "        for i in range(len(pro_x_train)):#10 2\n",
    "            varList1 = []\n",
    "            varList2 = []\n",
    "            for j in range(10):\n",
    "                varList1.append(pro_x_train[i][j][0])\n",
    "                varList2.append(pro_x_train[i][j][1])\n",
    "            var2 = np.var(varList1)\n",
    "            var3 = np.var(varList2)\n",
    "            for j in range(10):\n",
    "\n",
    "                pro_x_train[i][j][2] = var2\n",
    "                pro_x_train[i][j][3] = var3\n",
    "            \n",
    "            \n",
    "                \n",
    "        \n",
    "        return pro_x_train\n",
    "    return proX(x_train), proX(x_test)"
   ]
  },
  {
   "cell_type": "code",
   "execution_count": 3,
   "metadata": {},
   "outputs": [],
   "source": [
    "def ProcessEatData(x_train, x_test):\n",
    "    def proc(x_train_silent):\n",
    "        length = len(x_train_silent)\n",
    "        temp = np.zeros((length, 10,56))\n",
    "        for i in range(len(x_train_silent)):\n",
    "            for j in range(10):\n",
    "                for k in range(190):\n",
    "                    if 146 <= k <= 185:\n",
    "                        temp[i][j][k-146] = x_train_silent[i][j][k]\n",
    "                temp[i][j][40] = x_train_silent[i][j][0]#\n",
    "                temp[i][j][41] = x_train_silent[i][j][1]\n",
    "                temp[i][j][42] = x_train_silent[i][j][2]#\n",
    "                temp[i][j][43] = x_train_silent[i][j][3]\n",
    "                temp[i][j][44] = x_train_silent[i][j][4]#\n",
    "                temp[i][j][45] = x_train_silent[i][j][5]\n",
    "                \n",
    "                temp[i][j][46] = x_train_silent[i][j][6]#\n",
    "                temp[i][j][47] = x_train_silent[i][j][7]\n",
    "                temp[i][j][48] = x_train_silent[i][j][8]#\n",
    "                temp[i][j][49] = x_train_silent[i][j][9]\n",
    "                temp[i][j][50] = x_train_silent[i][j][10]#\n",
    "                temp[i][j][51] = x_train_silent[i][j][11]\n",
    "                \n",
    "                temp[i][j][52] = x_train_silent[i][j][12]#\n",
    "                temp[i][j][53] = x_train_silent[i][j][13]\n",
    "                temp[i][j][54] = x_train_silent[i][j][14]#\n",
    "                temp[i][j][55] = x_train_silent[i][j][15]\n",
    "\n",
    "                \n",
    "        return temp\n",
    "    x_train_40 = proc(x_train)\n",
    "    x_test_40 = proc(x_test)\n",
    "    x_train = x_train_40\n",
    "    x_test = x_test_40\n",
    "\n",
    "    #define distance between two points\n",
    "    def calDis(material, a, b):\n",
    "        #material = x_train[0][0]\n",
    "        ax = (a-1) *2\n",
    "        ay = ax + 1\n",
    "        bx = (b-1) *2\n",
    "        by = bx + 1\n",
    "        d1 = abs(material[ax] - material[bx])\n",
    "        d2 = abs(material[ay] - material[by])\n",
    "        dis = np.sqrt(d1*d1 + d2*d2)\n",
    "        return dis\n",
    "\n",
    "    def getSilent(x):#x_train[0][0]\n",
    "        mouthLen = calDis(x, 13, 17)\n",
    "        sideLen = calDis(x, 1, 12) + calDis(x, 1, 2) + calDis(x, 8, 7) + calDis(x, 6, 7)\n",
    "        mouthWid = calDis(x, 14, 20) + calDis(x, 15, 19) + calDis(x, 16, 18)\n",
    "        handLen = calDis(x, 21, 22) + calDis(x, 21, 23)\n",
    "        \n",
    "        \n",
    "        if mouthLen == 0:\n",
    "            silentWeight = 0\n",
    "        else:\n",
    "            silentWeight = mouthWid / mouthLen\n",
    "        if sideLen == 0:\n",
    "            sideWeight = 0\n",
    "            handWeight = 0\n",
    "        else:\n",
    "            sideWeight = mouthWid / sideLen\n",
    "            handWeight = handLen / sideLen\n",
    "            \n",
    "        \n",
    "\n",
    "        return [sideWeight,silentWeight, x[40],x[41],x[42],x[43],x[44],x[45],x[46],x[47],x[48],x[49],x[50],x[51],x[52],x[53],x[54],x[55]]\n",
    "\n",
    "    def proX(x_train):\n",
    "        pro_x_train = np.zeros((len(x_train), 10, 18))\n",
    "        for i in range(len(x_train)):\n",
    "            for j in range(len(x_train[i])):\n",
    "                pro_x_train[i][j] = getSilent(x_train[i][j])\n",
    "        return pro_x_train\n",
    "\n",
    "\n",
    "    return proX(x_train), proX(x_test)"
   ]
  },
  {
   "cell_type": "code",
   "execution_count": 4,
   "metadata": {},
   "outputs": [],
   "source": [
    "x_train = np.load(\"10/model_data/balancetalking/x_train_talking.npy\")\n",
    "x_test = np.load(\"10/model_data/balancetalking/x_test_talking.npy\")\n",
    "x_train, x_test = ProcessSilentData(x_train, x_test)###reduced\n",
    "y_train = np.load(\"10/model_data/balancetalking/y_train_talking.npy\")\n",
    "y_test = np.load(\"10/model_data/balancetalking/y_test_talking.npy\")\n"
   ]
  },
  {
   "cell_type": "code",
   "execution_count": 5,
   "metadata": {},
   "outputs": [
    {
     "name": "stdout",
     "output_type": "stream",
     "text": [
      "WARNING:tensorflow:From C:\\Users\\wangz\\AppData\\Local\\Continuum\\anaconda3\\lib\\site-packages\\tensorflow\\python\\ops\\resource_variable_ops.py:435: colocate_with (from tensorflow.python.framework.ops) is deprecated and will be removed in a future version.\n",
      "Instructions for updating:\n",
      "Colocations handled automatically by placer.\n",
      "WARNING:tensorflow:From C:\\Users\\wangz\\AppData\\Local\\Continuum\\anaconda3\\lib\\site-packages\\tensorflow\\python\\ops\\math_ops.py:3066: to_int32 (from tensorflow.python.ops.math_ops) is deprecated and will be removed in a future version.\n",
      "Instructions for updating:\n",
      "Use tf.cast instead.\n"
     ]
    }
   ],
   "source": [
    "model = load_model('10/silverSilent.h5')\n",
    "r7 = model.predict(x_train)\n",
    "r8 = model.predict(x_test)"
   ]
  },
  {
   "cell_type": "code",
   "execution_count": 6,
   "metadata": {},
   "outputs": [],
   "source": [
    "x_train = np.load(\"10/model_data/balancetalking/x_train_talking.npy\")\n",
    "x_test = np.load(\"10/model_data/balancetalking/x_test_talking.npy\")\n",
    "x_train, x_test = ProcessSilentData(x_train, x_test)###reduced\n",
    "y_train = np.load(\"10/model_data/balancetalking/y_train_talking.npy\")\n",
    "y_test = np.load(\"10/model_data/balancetalking/y_test_talking.npy\")"
   ]
  },
  {
   "cell_type": "code",
   "execution_count": 7,
   "metadata": {},
   "outputs": [],
   "source": [
    "model = load_model('10/selfeating.h5')\n",
    "r3 = model.predict(x_train)\n",
    "r4 = model.predict(x_test)"
   ]
  },
  {
   "cell_type": "code",
   "execution_count": 8,
   "metadata": {},
   "outputs": [
    {
     "name": "stdout",
     "output_type": "stream",
     "text": [
      "(18688, 2, 1)\n"
     ]
    }
   ],
   "source": [
    "X_TRAIN = []\n",
    "for i in range(len(r3)):\n",
    "    X_TRAIN.append([[r3[i][0]],[r7[i][0]]])\n",
    "X_TRAIN = np.array(X_TRAIN)\n",
    "print(X_TRAIN.shape)"
   ]
  },
  {
   "cell_type": "code",
   "execution_count": 9,
   "metadata": {},
   "outputs": [
    {
     "name": "stdout",
     "output_type": "stream",
     "text": [
      "(8013, 2, 1)\n"
     ]
    }
   ],
   "source": [
    "X_TEST = []\n",
    "for i in range(len(r4)):\n",
    "    X_TEST.append([[r4[i][0]],[r8[i][0]]])\n",
    "X_TEST = np.array(X_TEST)\n",
    "print(X_TEST.shape)"
   ]
  },
  {
   "cell_type": "code",
   "execution_count": 10,
   "metadata": {},
   "outputs": [],
   "source": [
    "np.save(\"10/model_data/ens/bronze_X_TEST.npy\",X_TEST)\n",
    "np.save(\"10/model_data/ens/bronze_X_TRAIN.npy\",X_TRAIN)\n",
    "np.save(\"10/model_data/ens/bronze_Y_TEST.npy\",y_test)\n",
    "np.save(\"10/model_data/ens/bronze_Y_TRAIN.npy\",y_train)"
   ]
  },
  {
   "cell_type": "code",
   "execution_count": null,
   "metadata": {},
   "outputs": [],
   "source": []
  },
  {
   "cell_type": "code",
   "execution_count": null,
   "metadata": {},
   "outputs": [],
   "source": []
  }
 ],
 "metadata": {
  "kernelspec": {
   "display_name": "Python 3",
   "language": "python",
   "name": "python3"
  },
  "language_info": {
   "codemirror_mode": {
    "name": "ipython",
    "version": 3
   },
   "file_extension": ".py",
   "mimetype": "text/x-python",
   "name": "python",
   "nbconvert_exporter": "python",
   "pygments_lexer": "ipython3",
   "version": "3.7.4"
  }
 },
 "nbformat": 4,
 "nbformat_minor": 2
}
