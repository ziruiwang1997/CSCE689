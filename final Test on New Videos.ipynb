{
 "cells": [
  {
   "cell_type": "code",
   "execution_count": 1,
   "metadata": {},
   "outputs": [
    {
     "name": "stderr",
     "output_type": "stream",
     "text": [
      "Using TensorFlow backend.\n"
     ]
    }
   ],
   "source": [
    "import pandas as pd\n",
    "import numpy as np\n",
    "import os\n",
    "import json\n",
    "import csv\n",
    "import pandas as pd\n",
    "import sklearn\n",
    "from sklearn.model_selection import train_test_split\n",
    "from keras.preprocessing import sequence\n",
    "from keras.models import Sequential\n",
    "from keras.layers import Bidirectional, Embedding, LSTM\n",
    "from keras.layers.core import Dense, Dropout, Activation, Flatten\n",
    "from keras import backend as kb\n",
    "from keras import initializers\n",
    "from keras.callbacks import ReduceLROnPlateau\n",
    "from keras.models import load_model\n",
    "#!pip install python_highcharts\n",
    "from highcharts import Highchart\n",
    "import json"
   ]
  },
  {
   "cell_type": "code",
   "execution_count": 20,
   "metadata": {},
   "outputs": [],
   "source": [
    "def getJsonList(filePath):\n",
    "    fileList = []\n",
    "    for i,j,k in os.walk(filePath):\n",
    "        fileList = k\n",
    "    return fileList\n",
    "def calcWeight(item):\n",
    "    zeros = 0\n",
    "    for i in item['pose_keypoints_2d']:\n",
    "        if i == 0:\n",
    "            zeros += 1\n",
    "    for i in item['face_keypoints_2d']:\n",
    "        if i == 0:\n",
    "            zeros +=1\n",
    "    return zeros\n",
    "\n",
    "def getJsonForOneFrame(fileName, filePath):\n",
    "    l = getJsonList(filePath)\n",
    "    with open(fileName,'r') as f:\n",
    "        temp = json.loads(f.read())\n",
    "        allPeople = temp['people']\n",
    "    if len(allPeople) == 0:\n",
    "        empty = []\n",
    "        for i in range(190):\n",
    "            empty.append(0)\n",
    "        return empty\n",
    "    target = allPeople[0]\n",
    "    for dic in allPeople:\n",
    "        if calcWeight(dic) < calcWeight(target):\n",
    "            target = dic\n",
    "    matrix = []\n",
    "    if(len(target['pose_keypoints_2d']) == 0):\n",
    "        for i in range(50):\n",
    "            matrix.append(0)\n",
    "    else:\n",
    "        for i in range(75):\n",
    "            if (i+1) % 3 == 0:\n",
    "                pass\n",
    "            else:\n",
    "                matrix.append(target['pose_keypoints_2d'][i])\n",
    "    if(len(target['face_keypoints_2d']) == 0):\n",
    "        for i in range(140):\n",
    "            matrix.append(0)\n",
    "    else:\n",
    "        for i in range(210):\n",
    "            if (i+1) % 3 == 0:\n",
    "                pass\n",
    "            else:\n",
    "                matrix.append(target['face_keypoints_2d'][i])\n",
    "    return matrix\n",
    "\n",
    "\n",
    "def writeData(path, pathType,fullDfList):\n",
    "    fileList = getJsonList(path)\n",
    "    fileList = set(fileList)\n",
    "    print(len(fileList))\n",
    "    dataCat = pd.read_csv('data.csv')\n",
    "    for index, row in dataCat.iterrows():\n",
    "        temp = int(row['name'][:-1])\n",
    "        if(row[\"type\"] != pathType):\n",
    "            pass\n",
    "        else:\n",
    "            startName = row[\"name\"]+\"_\"+'0'.zfill(12)+\"_keypoints.json\"\n",
    "            endName = row[\"name\"]+\"_\"+'30'.zfill(12)+\"_keypoints.json\"\n",
    "            if endName and endName not in fileList:\n",
    "                print('Video ',row[\"name\"],\" is not long enough\")\n",
    "            else:\n",
    "                initFrame = 0\n",
    "                while(row[\"name\"]+\"_\"+str(initFrame + 29).zfill(12)+\"_keypoints.json\" in fileList):\n",
    "                    matrix = []\n",
    "                    for i in range(30):\n",
    "                        if (i+1)% 5 == 0:\n",
    "                            file = row[\"name\"]+\"_\"+str(initFrame + i).zfill(12)+\"_keypoints.json\"\n",
    "                            matrixLine = getJsonForOneFrame(path+'/'+file,path)\n",
    "                            matrix.append(matrixLine)\n",
    "                        else:\n",
    "                            pass\n",
    "                    if row['type'] == 'shortyes':\n",
    "                        label = True\n",
    "                    elif row['type'] == 'shortno':\n",
    "                        label = False\n",
    "                    else:\n",
    "                        label = getLable(dataCat,row['name'], initFrame)\n",
    "                    data = [[label, matrix]]\n",
    "                    print(\"Data:\",label, row['name'], initFrame,'matrix:',len(matrix),len(matrix[0]))\n",
    "                    df = pd.DataFrame(data,columns=['lable','matrix'])\n",
    "                    fullDfList.append(df)\n",
    "                    initFrame += 30\n",
    "    return fullDfList\n",
    "\n",
    "def draw(folderName,videoName, modelName):\n",
    "    #videoName = '6'#define your test video name here\n",
    "    fileList = getJsonList(folderName)\n",
    "    fileList = set(fileList)\n",
    "    print(len(fileList))\n",
    "    fullData = []\n",
    "    initFrame = 0\n",
    "    while(folderName+\"_\"+str(initFrame + 29).zfill(12)+\"_keypoints.json\" in fileList):\n",
    "        matrix = []\n",
    "        for i in range(30):\n",
    "            file = folderName+\"_\"+str(initFrame + i).zfill(12)+\"_keypoints.json\"\n",
    "            matrixLine = getJsonForOneFrame(folderName+'/'+file,folderName)\n",
    "\n",
    "            matrix.append(matrixLine)\n",
    "        fullData.append(matrix)\n",
    "        initFrame += 30\n",
    "    def cleanX(raw):\n",
    "        length = len(raw)\n",
    "        temp = np.zeros((length, 10,190))\n",
    "        for i in range(len(raw)):\n",
    "            for j in range(10):\n",
    "                for k in range(190):\n",
    "                    temp[i][j][k] = raw[i][j][k]\n",
    "            print(\"progress:{0}%\".format(round((i + 1) * 100 / len(raw))), end=\"\\r\")\n",
    "        return temp\n",
    "    temp = cleanX(fullData)\n",
    "    \n",
    "#     model1 = load_model('10/balancetalking.h5')\n",
    "#     r1 = model1.predict(temp)\n",
    "    \n",
    "    \n",
    "#     model2 = load_model('10/balancedrinking.h5')\n",
    "#     r2 = model2.predict(temp)\n",
    "    \n",
    "    \n",
    "    \n",
    "    \n",
    "\n",
    "    def ProcessSilentData(x_train, x_test):\n",
    "        def proc(x_train_silent):\n",
    "            length = len(x_train_silent)\n",
    "            temp = np.zeros((length, 10,46))\n",
    "            for i in range(len(x_train_silent)):\n",
    "                for j in range(10):\n",
    "                    for k in range(190):\n",
    "                        if 146 <= k <= 185:\n",
    "                            temp[i][j][k-146] = x_train_silent[i][j][k]\n",
    "                    temp[i][j][40] = x_train_silent[i][j][67]#face\n",
    "                    temp[i][j][41] = x_train_silent[i][j][68]\n",
    "                    temp[i][j][42] = x_train_silent[i][j][8]#left hand\n",
    "                    temp[i][j][43] = x_train_silent[i][j][9]\n",
    "                    temp[i][j][44] = x_train_silent[i][j][14]#right hand\n",
    "                    temp[i][j][45] = x_train_silent[i][j][15]\n",
    "\n",
    "            return temp\n",
    "        x_train_40 = proc(x_train)\n",
    "        x_test_40 = proc(x_test)\n",
    "        x_train = x_train_40\n",
    "        x_test = x_test_40\n",
    "\n",
    "        #define distance between two points\n",
    "        def calDis(material, a, b):\n",
    "            #material = x_train[0][0]\n",
    "            ax = (a-1) *2\n",
    "            ay = ax + 1\n",
    "            bx = (b-1) *2\n",
    "            by = bx + 1\n",
    "            d1 = abs(material[ax] - material[bx])\n",
    "            d2 = abs(material[ay] - material[by])\n",
    "            dis = np.sqrt(d1*d1 + d2*d2)\n",
    "            return dis\n",
    "\n",
    "        def getSilent(x):#x_train[0][0]\n",
    "            mouthLen = calDis(x, 13, 17)\n",
    "            sideLen = calDis(x, 1, 12) + calDis(x, 1, 2) + calDis(x, 8, 7) + calDis(x, 6, 7)\n",
    "            mouthWid = calDis(x, 14, 20) + calDis(x, 15, 19) + calDis(x, 16, 18)\n",
    "            handLen = calDis(x, 21, 22) + calDis(x, 21, 23)\n",
    "            if mouthLen == 0:\n",
    "                silentWeight = 0\n",
    "            else:\n",
    "                silentWeight = mouthWid / mouthLen\n",
    "            if sideLen == 0:\n",
    "                sideWeight = 0\n",
    "                handWeight = 0\n",
    "            else:\n",
    "                sideWeight = mouthWid / sideLen\n",
    "                handWeight = handLen / sideLen\n",
    "            if sideLen == 0:\n",
    "                return [-1, -1]\n",
    "            else:\n",
    "                return [sideWeight,silentWeight]\n",
    "\n",
    "        def proX(x_train):\n",
    "            pro_x_train = np.zeros((len(x_train), 10, 4))\n",
    "            for i in range(len(x_train)):\n",
    "                for j in range(len(x_train[i])):\n",
    "                    var0, var1 = getSilent(x_train[i][j])\n",
    "                    pro_x_train[i][j][0] = var0\n",
    "                    pro_x_train[i][j][1] = var1\n",
    "            for i in range(len(pro_x_train)):#10 2\n",
    "                varList1 = []\n",
    "                varList2 = []\n",
    "                for j in range(10):\n",
    "                    varList1.append(pro_x_train[i][j][0])\n",
    "                    varList2.append(pro_x_train[i][j][1])\n",
    "                var2 = np.var(varList1)\n",
    "                var3 = np.var(varList2)\n",
    "                for j in range(10):\n",
    "                    pro_x_train[i][j][2] = var2\n",
    "                    pro_x_train[i][j][3] = var3\n",
    "            return pro_x_train\n",
    "        return proX(x_train), proX(x_test)\n",
    "    \n",
    "    \n",
    "    #print(x_train.shape)\n",
    "    \n",
    "    \n",
    "    \n",
    "    \n",
    "    \n",
    "\n",
    "    x_train_silent,x_test = ProcessSilentData(temp, temp)\n",
    "    x_train_eat,x_test = ProcessSilentData(temp, temp)\n",
    "  \n",
    "    model4 = load_model('model/talking.h5')#还是两个点的silenttalking不要动摇\n",
    "    r4 = model4.predict(x_train_silent)\n",
    "\n",
    "    \n",
    "    model3 = load_model('model/confusing.h5')#eating不要只搞两个点\n",
    "    r3 = model3.predict(x_train_eat)\n",
    "\n",
    "    \n",
    "    \n",
    "    #print(r4)\n",
    "    \n",
    "    \n",
    "    \n",
    "    X_TRAIN = []\n",
    "    for i in range(len(r4)):\n",
    "        #X_TRAIN.append([[r1[i][0]], [r2[i][0]], [r3[i][0]], [r4[i][0]]])\n",
    "        X_TRAIN.append([ [r4[i][0]], [r3[i][0]]])\n",
    "    X_TRAIN = np.array(X_TRAIN)\n",
    "    #print(X_TRAIN.shape)\n",
    "    \n",
    "    model = load_model(modelName)\n",
    "    predict = model.predict(X_TRAIN)\n",
    "    #return predict###########################\n",
    "    \n",
    "    \n",
    "    a = predict.tolist()\n",
    "    result = []\n",
    "    frames = 30\n",
    "    for i in a:\n",
    "        result.append([frames,i[0]])\n",
    "        frames += 30\n",
    "    #print(result)\n",
    "    chart = Highchart()\n",
    "    chart.set_options('chart', {'inverted': False})\n",
    "    options = {\n",
    "        'title': {\n",
    "            'text': 'Prediction for video '+folderName+'.mp4'\n",
    "        },\n",
    "        'subtitle': {\n",
    "            'text': '1 means talking while 0 means non-talking'\n",
    "        },\n",
    "         'xAxis': {\n",
    "            'title': {\n",
    "                'text': 'Second'\n",
    "            }\n",
    "        },\n",
    "        'yAxis': {\n",
    "            'title': {\n",
    "                'text': 'Flag'\n",
    "            },\n",
    "        }\n",
    "    }\n",
    "    chart.set_dict_options(options)\n",
    "    chart.add_data_set(result, series_type='line', name='prediction')\n",
    "    newresult = []\n",
    "    for r in result:\n",
    "        newresult.append([r[0]/30, 0.5])\n",
    "    chart.add_data_set(newresult, series_type='line', name='talking/silent')\n",
    "\n",
    "    \n",
    "    \n",
    "    index = []\n",
    "    for i in result:\n",
    "        for j in range(30):\n",
    "            index.append(i[1])\n",
    "            \n",
    "        \n",
    "    import cv2\n",
    "    video = videoName\n",
    "    result_video = folderName+'_result.mp4'\n",
    "    cap = cv2.VideoCapture(video)\n",
    "    fps_video = cap.get(cv2.CAP_PROP_FPS)\n",
    "    fourcc = cv2.VideoWriter_fourcc(*\"mp4v\")\n",
    "    frame_width = int(cap.get(cv2.CAP_PROP_FRAME_WIDTH))\n",
    "    frame_height = int(cap.get(cv2.CAP_PROP_FRAME_HEIGHT))\n",
    "    videoWriter = cv2.VideoWriter(result_video, fourcc, fps_video, (frame_width, frame_height))\n",
    "    frame_id = 0\n",
    "    while (cap.isOpened()):\n",
    "        ret, frame = cap.read()\n",
    "        if ret == True:\n",
    "            frame_id += 1\n",
    "            left_x_up = int(frame_width / frame_id)\n",
    "            left_y_up = int(frame_height / frame_id)\n",
    "            right_x_down = int(left_x_up + frame_width / 10)\n",
    "            right_y_down = int(left_y_up + frame_height / 10)\n",
    "            word_x = left_x_up + 5\n",
    "            word_y = left_y_up + 25\n",
    "            if frame_id >= len(index):\n",
    "                pass\n",
    "            else:\n",
    "                cv2.putText(frame, 'frame_%s' %index[frame_id], (word_x, word_y), cv2.FONT_HERSHEY_SIMPLEX, 1, (55,255,155), 2)\n",
    "            videoWriter.write(frame)\n",
    "        else:\n",
    "            videoWriter.release()\n",
    "            break    \n",
    "    \n",
    "    frameRate = 30#default video frame rate\n",
    "    for i in result:\n",
    "        i[0] = i[0]/frameRate\n",
    "\n",
    "    \n",
    "    d = {}\n",
    "    d['talking'] = result\n",
    "    file_name = 'timeLabel_'+videoName+'.json' \n",
    "    with open(file_name,'w') as file_object:\n",
    "        json.dump(d,file_object)\n",
    "    return chart"
   ]
  },
  {
   "cell_type": "code",
   "execution_count": 21,
   "metadata": {},
   "outputs": [
    {
     "name": "stdout",
     "output_type": "stream",
     "text": [
      "1812\n",
      "progress:100%\r"
     ]
    },
    {
     "data": {
      "text/html": [
       "<iframe style=\"border:0;outline:none;overflow:hidden\" srcdoc=\"&lt;!DOCTYPE html&gt; &lt;html lang=&quot;en&quot;&gt; &lt;head&gt; &lt;meta charset=&quot;utf-8&quot; /&gt; &lt;link href=&quot;https://www.highcharts.com/highslide/highslide.css&quot; rel=&quot;stylesheet&quot; /&gt; &lt;script type=&quot;text/javascript&quot; src=&quot;https://ajax.googleapis.com/ajax/libs/jquery/1.9.1/jquery.min.js&quot;&gt;&lt;/script&gt; &lt;script type=&quot;text/javascript&quot; src=&quot;https://code.highcharts.com/6/highcharts.js&quot;&gt;&lt;/script&gt; &lt;script type=&quot;text/javascript&quot; src=&quot;https://code.highcharts.com/6/highcharts-more.js&quot;&gt;&lt;/script&gt; &lt;script type=&quot;text/javascript&quot; src=&quot;https://code.highcharts.com/6/modules/heatmap.js&quot;&gt;&lt;/script&gt; &lt;script type=&quot;text/javascript&quot; src=&quot;https://code.highcharts.com/6/modules/exporting.js&quot;&gt;&lt;/script&gt; &lt;/head&gt; &lt;body style=&quot;margin:0;padding:0&quot;&gt; &lt;div id=&quot;container&quot; style=&quot;&quot;&gt;Loading....&lt;/div&gt; &lt;script&gt; $(function(){ Highcharts.setOptions({&quot;global&quot;: {}, &quot;lang&quot;: {}}); var option = {&quot;chart&quot;: {&quot;renderTo&quot;: &quot;container&quot;, &quot;inverted&quot;: false}, &quot;colors&quot;: {}, &quot;credits&quot;: {&quot;enabled&quot;: false}, &quot;drilldown&quot;: {}, &quot;exporting&quot;: {}, &quot;labels&quot;: {}, &quot;legend&quot;: {}, &quot;loading&quot;: {}, &quot;navigation&quot;: {}, &quot;pane&quot;: {}, &quot;plotOptions&quot;: {}, &quot;series&quot;: {}, &quot;subtitle&quot;: {&quot;text&quot;: &quot;1 means talking while 0 means non-talking&quot;}, &quot;title&quot;: {&quot;text&quot;: &quot;Prediction for video test1.mp4&quot;}, &quot;tooltip&quot;: {}, &quot;xAxis&quot;: {&quot;title&quot;: {&quot;text&quot;: &quot;Second&quot;}}, &quot;yAxis&quot;: {&quot;title&quot;: {&quot;text&quot;: &quot;Flag&quot;}}}; var chart = new Highcharts.Chart(option); var data = [{&quot;data&quot;: [[1.0, 0.3797268867492676], [2.0, 0.5764634013175964], [3.0, 0.6525948643684387], [4.0, 0.6156744956970215], [5.0, 0.5751274228096008], [6.0, 0.632103443145752], [7.0, 0.6178663372993469], [8.0, 0.6380616426467896], [9.0, 0.6032019257545471], [10.0, 0.04735860228538513], [11.0, 0.047408998012542725], [12.0, 0.048228442668914795], [13.0, 0.6081138849258423], [14.0, 0.6046893000602722], [15.0, 0.3475872278213501], [16.0, 0.6494361162185669], [17.0, 0.6470648050308228], [18.0, 0.04746609926223755], [19.0, 0.047713518142700195], [20.0, 0.04736396670341492], [21.0, 0.04742509126663208], [22.0, 0.047941774129867554], [23.0, 0.4531799554824829], [24.0, 0.6521227359771729], [25.0, 0.49245786666870117], [26.0, 0.6211382150650024], [27.0, 0.6487678289413452], [28.0, 0.3793649673461914], [29.0, 0.047357261180877686], [30.0, 0.0476648211479187], [31.0, 0.047364234924316406], [32.0, 0.04760336875915527], [33.0, 0.04748508334159851], [34.0, 0.04886701703071594], [35.0, 0.45871952176094055], [36.0, 0.6525823473930359], [37.0, 0.04778096079826355], [38.0, 0.05033630132675171], [39.0, 0.05042189359664917], [40.0, 0.5982497334480286], [41.0, 0.5105093121528625], [42.0, 0.5843223333358765], [43.0, 0.04926556348800659], [44.0, 0.047877371311187744], [45.0, 0.04799395799636841], [46.0, 0.04786011576652527], [47.0, 0.587751030921936], [48.0, 0.6523745656013489], [49.0, 0.1606237292289734], [50.0, 0.04739183187484741], [51.0, 0.04746779799461365], [52.0, 0.047379255294799805], [53.0, 0.04768523573875427], [54.0, 0.04728209972381592], [55.0, 0.04747989773750305], [56.0, 0.04758727550506592], [57.0, 0.6320199966430664], [58.0, 0.551472008228302], [59.0, 0.04734840989112854], [60.0, 0.047253161668777466]], &quot;type&quot;: &quot;line&quot;, &quot;name&quot;: &quot;prediction&quot;}, {&quot;data&quot;: [[1.0, 0.5], [2.0, 0.5], [3.0, 0.5], [4.0, 0.5], [5.0, 0.5], [6.0, 0.5], [7.0, 0.5], [8.0, 0.5], [9.0, 0.5], [10.0, 0.5], [11.0, 0.5], [12.0, 0.5], [13.0, 0.5], [14.0, 0.5], [15.0, 0.5], [16.0, 0.5], [17.0, 0.5], [18.0, 0.5], [19.0, 0.5], [20.0, 0.5], [21.0, 0.5], [22.0, 0.5], [23.0, 0.5], [24.0, 0.5], [25.0, 0.5], [26.0, 0.5], [27.0, 0.5], [28.0, 0.5], [29.0, 0.5], [30.0, 0.5], [31.0, 0.5], [32.0, 0.5], [33.0, 0.5], [34.0, 0.5], [35.0, 0.5], [36.0, 0.5], [37.0, 0.5], [38.0, 0.5], [39.0, 0.5], [40.0, 0.5], [41.0, 0.5], [42.0, 0.5], [43.0, 0.5], [44.0, 0.5], [45.0, 0.5], [46.0, 0.5], [47.0, 0.5], [48.0, 0.5], [49.0, 0.5], [50.0, 0.5], [51.0, 0.5], [52.0, 0.5], [53.0, 0.5], [54.0, 0.5], [55.0, 0.5], [56.0, 0.5], [57.0, 0.5], [58.0, 0.5], [59.0, 0.5], [60.0, 0.5]], &quot;type&quot;: &quot;line&quot;, &quot;name&quot;: &quot;talking/silent&quot;}]; var dataLen = data.length; for (var ix = 0; ix &lt; dataLen; ix++) { chart.addSeries(data[ix]); } }); &lt;/script&gt; &lt;/body&gt; &lt;/html&gt;\" height=520 width=820></iframe>"
      ],
      "text/plain": [
       "<highcharts.highcharts.highcharts.Highchart at 0x2d3e9c27288>"
      ]
     },
     "execution_count": 21,
     "metadata": {},
     "output_type": "execute_result"
    }
   ],
   "source": [
    "folder_name = 'test1'#type your folder path here, which contains openpose json files\n",
    "video_name = 'test1.mp4'#type your video path here, we want to know frame rate to create time labels \n",
    "model_name = 'model/ensemble.h5'#type your model name here\n",
    "chart1 = draw(folder_name,video_name,model_name)#return a frame/label chart and saved a time/label json file\n",
    "chart1.save_file('chart_for_video_'+video_name)#save the chart \n",
    "chart1"
   ]
  },
  {
   "cell_type": "code",
   "execution_count": 22,
   "metadata": {},
   "outputs": [
    {
     "name": "stdout",
     "output_type": "stream",
     "text": [
      "1819\n",
      "progress:100%\r"
     ]
    },
    {
     "data": {
      "text/html": [
       "<iframe style=\"border:0;outline:none;overflow:hidden\" srcdoc=\"&lt;!DOCTYPE html&gt; &lt;html lang=&quot;en&quot;&gt; &lt;head&gt; &lt;meta charset=&quot;utf-8&quot; /&gt; &lt;link href=&quot;https://www.highcharts.com/highslide/highslide.css&quot; rel=&quot;stylesheet&quot; /&gt; &lt;script type=&quot;text/javascript&quot; src=&quot;https://ajax.googleapis.com/ajax/libs/jquery/1.9.1/jquery.min.js&quot;&gt;&lt;/script&gt; &lt;script type=&quot;text/javascript&quot; src=&quot;https://code.highcharts.com/6/highcharts.js&quot;&gt;&lt;/script&gt; &lt;script type=&quot;text/javascript&quot; src=&quot;https://code.highcharts.com/6/highcharts-more.js&quot;&gt;&lt;/script&gt; &lt;script type=&quot;text/javascript&quot; src=&quot;https://code.highcharts.com/6/modules/heatmap.js&quot;&gt;&lt;/script&gt; &lt;script type=&quot;text/javascript&quot; src=&quot;https://code.highcharts.com/6/modules/exporting.js&quot;&gt;&lt;/script&gt; &lt;/head&gt; &lt;body style=&quot;margin:0;padding:0&quot;&gt; &lt;div id=&quot;container&quot; style=&quot;&quot;&gt;Loading....&lt;/div&gt; &lt;script&gt; $(function(){ Highcharts.setOptions({&quot;global&quot;: {}, &quot;lang&quot;: {}}); var option = {&quot;chart&quot;: {&quot;renderTo&quot;: &quot;container&quot;, &quot;inverted&quot;: false}, &quot;colors&quot;: {}, &quot;credits&quot;: {&quot;enabled&quot;: false}, &quot;drilldown&quot;: {}, &quot;exporting&quot;: {}, &quot;labels&quot;: {}, &quot;legend&quot;: {}, &quot;loading&quot;: {}, &quot;navigation&quot;: {}, &quot;pane&quot;: {}, &quot;plotOptions&quot;: {}, &quot;series&quot;: {}, &quot;subtitle&quot;: {&quot;text&quot;: &quot;1 means talking while 0 means non-talking&quot;}, &quot;title&quot;: {&quot;text&quot;: &quot;Prediction for video test2.mp4&quot;}, &quot;tooltip&quot;: {}, &quot;xAxis&quot;: {&quot;title&quot;: {&quot;text&quot;: &quot;Second&quot;}}, &quot;yAxis&quot;: {&quot;title&quot;: {&quot;text&quot;: &quot;Flag&quot;}}}; var chart = new Highcharts.Chart(option); var data = [{&quot;data&quot;: [[1.0, 0.04769498109817505], [2.0, 0.047322988510131836], [3.0, 0.04748976230621338], [4.0, 0.6355087161064148], [5.0, 0.6494290232658386], [6.0, 0.6263094544410706], [7.0, 0.6524803638458252], [8.0, 0.650013267993927], [9.0, 0.6522343158721924], [10.0, 0.5460265278816223], [11.0, 0.6521850824356079], [12.0, 0.6494308710098267], [13.0, 0.6484013795852661], [14.0, 0.626006007194519], [15.0, 0.047565847635269165], [16.0, 0.04724285006523132], [17.0, 0.048623472452163696], [18.0, 0.5460885167121887], [19.0, 0.6512914299964905], [20.0, 0.04749646782875061], [21.0, 0.23218384385108948], [22.0, 0.21334242820739746], [23.0, 0.41995325684547424], [24.0, 0.04795071482658386], [25.0, 0.04794943332672119], [26.0, 0.047650933265686035], [27.0, 0.047600388526916504], [28.0, 0.047678589820861816], [29.0, 0.04744860529899597], [30.0, 0.6500043869018555], [31.0, 0.21016448736190796], [32.0, 0.04940140247344971], [33.0, 0.04826915264129639], [34.0, 0.048556119203567505], [35.0, 0.39740926027297974], [36.0, 0.6191701292991638], [37.0, 0.04778727889060974], [38.0, 0.04736319184303284], [39.0, 0.0479738712310791], [40.0, 0.04728183150291443], [41.0, 0.0478898286819458], [42.0, 0.055950433015823364], [43.0, 0.6401203870773315], [44.0, 0.20694249868392944], [45.0, 0.10701406002044678], [46.0, 0.04792329668998718], [47.0, 0.04978027939796448], [48.0, 0.2596208453178406], [49.0, 0.25327369570732117], [50.0, 0.04808551073074341], [51.0, 0.048447489738464355], [52.0, 0.27787357568740845], [53.0, 0.10701406002044678], [54.0, 0.25104838609695435], [55.0, 0.04745060205459595], [56.0, 0.04726266860961914], [57.0, 0.6524710655212402], [58.0, 0.6421346068382263], [59.0, 0.642678439617157], [60.0, 0.04794180393218994]], &quot;type&quot;: &quot;line&quot;, &quot;name&quot;: &quot;prediction&quot;}, {&quot;data&quot;: [[1.0, 0.5], [2.0, 0.5], [3.0, 0.5], [4.0, 0.5], [5.0, 0.5], [6.0, 0.5], [7.0, 0.5], [8.0, 0.5], [9.0, 0.5], [10.0, 0.5], [11.0, 0.5], [12.0, 0.5], [13.0, 0.5], [14.0, 0.5], [15.0, 0.5], [16.0, 0.5], [17.0, 0.5], [18.0, 0.5], [19.0, 0.5], [20.0, 0.5], [21.0, 0.5], [22.0, 0.5], [23.0, 0.5], [24.0, 0.5], [25.0, 0.5], [26.0, 0.5], [27.0, 0.5], [28.0, 0.5], [29.0, 0.5], [30.0, 0.5], [31.0, 0.5], [32.0, 0.5], [33.0, 0.5], [34.0, 0.5], [35.0, 0.5], [36.0, 0.5], [37.0, 0.5], [38.0, 0.5], [39.0, 0.5], [40.0, 0.5], [41.0, 0.5], [42.0, 0.5], [43.0, 0.5], [44.0, 0.5], [45.0, 0.5], [46.0, 0.5], [47.0, 0.5], [48.0, 0.5], [49.0, 0.5], [50.0, 0.5], [51.0, 0.5], [52.0, 0.5], [53.0, 0.5], [54.0, 0.5], [55.0, 0.5], [56.0, 0.5], [57.0, 0.5], [58.0, 0.5], [59.0, 0.5], [60.0, 0.5]], &quot;type&quot;: &quot;line&quot;, &quot;name&quot;: &quot;talking/silent&quot;}]; var dataLen = data.length; for (var ix = 0; ix &lt; dataLen; ix++) { chart.addSeries(data[ix]); } }); &lt;/script&gt; &lt;/body&gt; &lt;/html&gt;\" height=520 width=820></iframe>"
      ],
      "text/plain": [
       "<highcharts.highcharts.highcharts.Highchart at 0x2d4021a21c8>"
      ]
     },
     "execution_count": 22,
     "metadata": {},
     "output_type": "execute_result"
    }
   ],
   "source": [
    "folder_name = 'test2'#type your folder path here, which contains openpose json files\n",
    "video_name = 'test2.mp4'#type your video path here, we want to know frame rate to create time labels \n",
    "model_name = 'model/ensemble.h5'#type your model name here\n",
    "chart2 = draw(folder_name,video_name,model_name)#return a frame/label chart and saved a time/label json file\n",
    "chart2.save_file('chart_for_video_'+video_name)#save the chart \n",
    "chart2"
   ]
  },
  {
   "cell_type": "code",
   "execution_count": 23,
   "metadata": {},
   "outputs": [
    {
     "name": "stdout",
     "output_type": "stream",
     "text": [
      "1727\n",
      "progress:100%\r"
     ]
    },
    {
     "data": {
      "text/html": [
       "<iframe style=\"border:0;outline:none;overflow:hidden\" srcdoc=\"&lt;!DOCTYPE html&gt; &lt;html lang=&quot;en&quot;&gt; &lt;head&gt; &lt;meta charset=&quot;utf-8&quot; /&gt; &lt;link href=&quot;https://www.highcharts.com/highslide/highslide.css&quot; rel=&quot;stylesheet&quot; /&gt; &lt;script type=&quot;text/javascript&quot; src=&quot;https://ajax.googleapis.com/ajax/libs/jquery/1.9.1/jquery.min.js&quot;&gt;&lt;/script&gt; &lt;script type=&quot;text/javascript&quot; src=&quot;https://code.highcharts.com/6/highcharts.js&quot;&gt;&lt;/script&gt; &lt;script type=&quot;text/javascript&quot; src=&quot;https://code.highcharts.com/6/highcharts-more.js&quot;&gt;&lt;/script&gt; &lt;script type=&quot;text/javascript&quot; src=&quot;https://code.highcharts.com/6/modules/heatmap.js&quot;&gt;&lt;/script&gt; &lt;script type=&quot;text/javascript&quot; src=&quot;https://code.highcharts.com/6/modules/exporting.js&quot;&gt;&lt;/script&gt; &lt;/head&gt; &lt;body style=&quot;margin:0;padding:0&quot;&gt; &lt;div id=&quot;container&quot; style=&quot;&quot;&gt;Loading....&lt;/div&gt; &lt;script&gt; $(function(){ Highcharts.setOptions({&quot;global&quot;: {}, &quot;lang&quot;: {}}); var option = {&quot;chart&quot;: {&quot;renderTo&quot;: &quot;container&quot;, &quot;inverted&quot;: false}, &quot;colors&quot;: {}, &quot;credits&quot;: {&quot;enabled&quot;: false}, &quot;drilldown&quot;: {}, &quot;exporting&quot;: {}, &quot;labels&quot;: {}, &quot;legend&quot;: {}, &quot;loading&quot;: {}, &quot;navigation&quot;: {}, &quot;pane&quot;: {}, &quot;plotOptions&quot;: {}, &quot;series&quot;: {}, &quot;subtitle&quot;: {&quot;text&quot;: &quot;1 means talking while 0 means non-talking&quot;}, &quot;title&quot;: {&quot;text&quot;: &quot;Prediction for video test3.mp4&quot;}, &quot;tooltip&quot;: {}, &quot;xAxis&quot;: {&quot;title&quot;: {&quot;text&quot;: &quot;Second&quot;}}, &quot;yAxis&quot;: {&quot;title&quot;: {&quot;text&quot;: &quot;Flag&quot;}}}; var chart = new Highcharts.Chart(option); var data = [{&quot;data&quot;: [[1.0, 0.04747095704078674], [2.0, 0.04782870411872864], [3.0, 0.5603087544441223], [4.0, 0.6514328718185425], [5.0, 0.6324909925460815], [6.0, 0.6508952379226685], [7.0, 0.6129138469696045], [8.0, 0.6185911893844604], [9.0, 0.6517996788024902], [10.0, 0.6129040718078613], [11.0, 0.6433297395706177], [12.0, 0.6508203148841858], [13.0, 0.04807820916175842], [14.0, 0.04765334725379944], [15.0, 0.04799368977546692], [16.0, 0.0475994348526001], [17.0, 0.04776930809020996], [18.0, 0.23168763518333435], [19.0, 0.047946810722351074], [20.0, 0.04756039381027222], [21.0, 0.04766815900802612], [22.0, 0.04753270745277405], [23.0, 0.047860920429229736], [24.0, 0.047656089067459106], [25.0, 0.04769331216812134], [26.0, 0.04834333062171936], [27.0, 0.04762449860572815], [28.0, 0.04759550094604492], [29.0, 0.04736235737800598], [30.0, 0.047416865825653076], [31.0, 0.047652244567871094], [32.0, 0.04753381013870239], [33.0, 0.047950923442840576], [34.0, 0.04908153414726257], [35.0, 0.047412097454071045], [36.0, 0.6518920660018921], [37.0, 0.6092133522033691], [38.0, 0.6009114384651184], [39.0, 0.04732760787010193], [40.0, 0.04730227589607239], [41.0, 0.4413549304008484], [42.0, 0.04785233736038208], [43.0, 0.04747724533081055], [44.0, 0.04785960912704468], [45.0, 0.047842562198638916], [46.0, 0.04813295602798462], [47.0, 0.047680944204330444], [48.0, 0.047649770975112915], [49.0, 0.04754498600959778], [50.0, 0.04757210612297058], [51.0, 0.04764720797538757], [52.0, 0.04758507013320923], [53.0, 0.04778823256492615], [54.0, 0.048280566930770874], [55.0, 0.6013002395629883], [56.0, 0.6406611800193787], [57.0, 0.04755537584424019]], &quot;type&quot;: &quot;line&quot;, &quot;name&quot;: &quot;prediction&quot;}, {&quot;data&quot;: [[1.0, 0.5], [2.0, 0.5], [3.0, 0.5], [4.0, 0.5], [5.0, 0.5], [6.0, 0.5], [7.0, 0.5], [8.0, 0.5], [9.0, 0.5], [10.0, 0.5], [11.0, 0.5], [12.0, 0.5], [13.0, 0.5], [14.0, 0.5], [15.0, 0.5], [16.0, 0.5], [17.0, 0.5], [18.0, 0.5], [19.0, 0.5], [20.0, 0.5], [21.0, 0.5], [22.0, 0.5], [23.0, 0.5], [24.0, 0.5], [25.0, 0.5], [26.0, 0.5], [27.0, 0.5], [28.0, 0.5], [29.0, 0.5], [30.0, 0.5], [31.0, 0.5], [32.0, 0.5], [33.0, 0.5], [34.0, 0.5], [35.0, 0.5], [36.0, 0.5], [37.0, 0.5], [38.0, 0.5], [39.0, 0.5], [40.0, 0.5], [41.0, 0.5], [42.0, 0.5], [43.0, 0.5], [44.0, 0.5], [45.0, 0.5], [46.0, 0.5], [47.0, 0.5], [48.0, 0.5], [49.0, 0.5], [50.0, 0.5], [51.0, 0.5], [52.0, 0.5], [53.0, 0.5], [54.0, 0.5], [55.0, 0.5], [56.0, 0.5], [57.0, 0.5]], &quot;type&quot;: &quot;line&quot;, &quot;name&quot;: &quot;talking/silent&quot;}]; var dataLen = data.length; for (var ix = 0; ix &lt; dataLen; ix++) { chart.addSeries(data[ix]); } }); &lt;/script&gt; &lt;/body&gt; &lt;/html&gt;\" height=520 width=820></iframe>"
      ],
      "text/plain": [
       "<highcharts.highcharts.highcharts.Highchart at 0x2d410a71dc8>"
      ]
     },
     "execution_count": 23,
     "metadata": {},
     "output_type": "execute_result"
    }
   ],
   "source": [
    "folder_name = 'test3'#type your folder path here, which contains openpose json files\n",
    "video_name = 'test3.mp4'#type your video path here, we want to know frame rate to create time labels \n",
    "model_name = 'model/ensemble.h5'#type your model name here\n",
    "chart3 = draw(folder_name,video_name,model_name)#return a frame/label chart and saved a time/label json file\n",
    "chart3.save_file('chart_for_video_'+video_name)#save the chart \n",
    "chart3"
   ]
  },
  {
   "cell_type": "code",
   "execution_count": 24,
   "metadata": {},
   "outputs": [
    {
     "name": "stdout",
     "output_type": "stream",
     "text": [
      "1872\n",
      "progress:100%\r"
     ]
    },
    {
     "data": {
      "text/html": [
       "<iframe style=\"border:0;outline:none;overflow:hidden\" srcdoc=\"&lt;!DOCTYPE html&gt; &lt;html lang=&quot;en&quot;&gt; &lt;head&gt; &lt;meta charset=&quot;utf-8&quot; /&gt; &lt;link href=&quot;https://www.highcharts.com/highslide/highslide.css&quot; rel=&quot;stylesheet&quot; /&gt; &lt;script type=&quot;text/javascript&quot; src=&quot;https://ajax.googleapis.com/ajax/libs/jquery/1.9.1/jquery.min.js&quot;&gt;&lt;/script&gt; &lt;script type=&quot;text/javascript&quot; src=&quot;https://code.highcharts.com/6/highcharts.js&quot;&gt;&lt;/script&gt; &lt;script type=&quot;text/javascript&quot; src=&quot;https://code.highcharts.com/6/highcharts-more.js&quot;&gt;&lt;/script&gt; &lt;script type=&quot;text/javascript&quot; src=&quot;https://code.highcharts.com/6/modules/heatmap.js&quot;&gt;&lt;/script&gt; &lt;script type=&quot;text/javascript&quot; src=&quot;https://code.highcharts.com/6/modules/exporting.js&quot;&gt;&lt;/script&gt; &lt;/head&gt; &lt;body style=&quot;margin:0;padding:0&quot;&gt; &lt;div id=&quot;container&quot; style=&quot;&quot;&gt;Loading....&lt;/div&gt; &lt;script&gt; $(function(){ Highcharts.setOptions({&quot;global&quot;: {}, &quot;lang&quot;: {}}); var option = {&quot;chart&quot;: {&quot;renderTo&quot;: &quot;container&quot;, &quot;inverted&quot;: false}, &quot;colors&quot;: {}, &quot;credits&quot;: {&quot;enabled&quot;: false}, &quot;drilldown&quot;: {}, &quot;exporting&quot;: {}, &quot;labels&quot;: {}, &quot;legend&quot;: {}, &quot;loading&quot;: {}, &quot;navigation&quot;: {}, &quot;pane&quot;: {}, &quot;plotOptions&quot;: {}, &quot;series&quot;: {}, &quot;subtitle&quot;: {&quot;text&quot;: &quot;1 means talking while 0 means non-talking&quot;}, &quot;title&quot;: {&quot;text&quot;: &quot;Prediction for video test4.mp4&quot;}, &quot;tooltip&quot;: {}, &quot;xAxis&quot;: {&quot;title&quot;: {&quot;text&quot;: &quot;Second&quot;}}, &quot;yAxis&quot;: {&quot;title&quot;: {&quot;text&quot;: &quot;Flag&quot;}}}; var chart = new Highcharts.Chart(option); var data = [{&quot;data&quot;: [[1.0, 0.04951438307762146], [2.0, 0.094402015209198], [3.0, 0.6178649067878723], [4.0, 0.2687656879425049], [5.0, 0.6358574628829956], [6.0, 0.6307629346847534], [7.0, 0.6460546255111694], [8.0, 0.05937907099723816], [9.0, 0.04897582530975342], [10.0, 0.613377034664154], [11.0, 0.5704771280288696], [12.0, 0.6514915227890015], [13.0, 0.6447507739067078], [14.0, 0.6128590703010559], [15.0, 0.6465858221054077], [16.0, 0.052766770124435425], [17.0, 0.04860237240791321], [18.0, 0.0508427619934082], [19.0, 0.054401516914367676], [20.0, 0.05126148462295532], [21.0, 0.05989634990692139], [22.0, 0.04992729425430298], [23.0, 0.6310220956802368], [24.0, 0.6049929857254028], [25.0, 0.6202988624572754], [26.0, 0.5785349011421204], [27.0, 0.6334542036056519], [28.0, 0.5617449283599854], [29.0, 0.04930105805397034], [30.0, 0.0509340763092041], [31.0, 0.6466538906097412], [32.0, 0.6196953058242798], [33.0, 0.646805465221405], [34.0, 0.06082400679588318], [35.0, 0.5535948276519775], [36.0, 0.6497196555137634], [37.0, 0.6435129642486572], [38.0, 0.6040627956390381], [39.0, 0.6502140760421753], [40.0, 0.6282702684402466], [41.0, 0.05335620045661926], [42.0, 0.04868769645690918], [43.0, 0.050032228231430054], [44.0, 0.06963849067687988], [45.0, 0.07488042116165161], [46.0, 0.04850214719772339], [47.0, 0.047880619764328], [48.0, 0.049159109592437744], [49.0, 0.047867655754089355], [50.0, 0.047760337591171265], [51.0, 0.04830130934715271], [52.0, 0.05106794834136963], [53.0, 0.048616260290145874], [54.0, 0.048799723386764526], [55.0, 0.049028366804122925], [56.0, 0.049751341342926025], [57.0, 0.049684345722198486], [58.0, 0.5888088941574097], [59.0, 0.5657983422279358], [60.0, 0.5520136952400208], [61.0, 0.04740637168288231], [62.0, 0.04787003993988037]], &quot;type&quot;: &quot;line&quot;, &quot;name&quot;: &quot;prediction&quot;}, {&quot;data&quot;: [[1.0, 0.5], [2.0, 0.5], [3.0, 0.5], [4.0, 0.5], [5.0, 0.5], [6.0, 0.5], [7.0, 0.5], [8.0, 0.5], [9.0, 0.5], [10.0, 0.5], [11.0, 0.5], [12.0, 0.5], [13.0, 0.5], [14.0, 0.5], [15.0, 0.5], [16.0, 0.5], [17.0, 0.5], [18.0, 0.5], [19.0, 0.5], [20.0, 0.5], [21.0, 0.5], [22.0, 0.5], [23.0, 0.5], [24.0, 0.5], [25.0, 0.5], [26.0, 0.5], [27.0, 0.5], [28.0, 0.5], [29.0, 0.5], [30.0, 0.5], [31.0, 0.5], [32.0, 0.5], [33.0, 0.5], [34.0, 0.5], [35.0, 0.5], [36.0, 0.5], [37.0, 0.5], [38.0, 0.5], [39.0, 0.5], [40.0, 0.5], [41.0, 0.5], [42.0, 0.5], [43.0, 0.5], [44.0, 0.5], [45.0, 0.5], [46.0, 0.5], [47.0, 0.5], [48.0, 0.5], [49.0, 0.5], [50.0, 0.5], [51.0, 0.5], [52.0, 0.5], [53.0, 0.5], [54.0, 0.5], [55.0, 0.5], [56.0, 0.5], [57.0, 0.5], [58.0, 0.5], [59.0, 0.5], [60.0, 0.5], [61.0, 0.5], [62.0, 0.5]], &quot;type&quot;: &quot;line&quot;, &quot;name&quot;: &quot;talking/silent&quot;}]; var dataLen = data.length; for (var ix = 0; ix &lt; dataLen; ix++) { chart.addSeries(data[ix]); } }); &lt;/script&gt; &lt;/body&gt; &lt;/html&gt;\" height=520 width=820></iframe>"
      ],
      "text/plain": [
       "<highcharts.highcharts.highcharts.Highchart at 0x2d431574048>"
      ]
     },
     "execution_count": 24,
     "metadata": {},
     "output_type": "execute_result"
    }
   ],
   "source": [
    "folder_name = 'test4'#type your folder path here, which contains openpose json files\n",
    "video_name = 'test4.mp4'#type your video path here, we want to know frame rate to create time labels \n",
    "model_name = 'model/ensemble.h5'#type your model name here\n",
    "chart4 = draw(folder_name,video_name,model_name)#return a frame/label chart and saved a time/label json file\n",
    "chart4.save_file('chart_for_video_'+video_name)#save the chart \n",
    "chart4"
   ]
  },
  {
   "cell_type": "code",
   "execution_count": 25,
   "metadata": {},
   "outputs": [
    {
     "name": "stdout",
     "output_type": "stream",
     "text": [
      "2942\n",
      "progress:100%\r"
     ]
    },
    {
     "data": {
      "text/html": [
       "<iframe style=\"border:0;outline:none;overflow:hidden\" srcdoc=\"&lt;!DOCTYPE html&gt; &lt;html lang=&quot;en&quot;&gt; &lt;head&gt; &lt;meta charset=&quot;utf-8&quot; /&gt; &lt;link href=&quot;https://www.highcharts.com/highslide/highslide.css&quot; rel=&quot;stylesheet&quot; /&gt; &lt;script type=&quot;text/javascript&quot; src=&quot;https://ajax.googleapis.com/ajax/libs/jquery/1.9.1/jquery.min.js&quot;&gt;&lt;/script&gt; &lt;script type=&quot;text/javascript&quot; src=&quot;https://code.highcharts.com/6/highcharts.js&quot;&gt;&lt;/script&gt; &lt;script type=&quot;text/javascript&quot; src=&quot;https://code.highcharts.com/6/highcharts-more.js&quot;&gt;&lt;/script&gt; &lt;script type=&quot;text/javascript&quot; src=&quot;https://code.highcharts.com/6/modules/heatmap.js&quot;&gt;&lt;/script&gt; &lt;script type=&quot;text/javascript&quot; src=&quot;https://code.highcharts.com/6/modules/exporting.js&quot;&gt;&lt;/script&gt; &lt;/head&gt; &lt;body style=&quot;margin:0;padding:0&quot;&gt; &lt;div id=&quot;container&quot; style=&quot;&quot;&gt;Loading....&lt;/div&gt; &lt;script&gt; $(function(){ Highcharts.setOptions({&quot;global&quot;: {}, &quot;lang&quot;: {}}); var option = {&quot;chart&quot;: {&quot;renderTo&quot;: &quot;container&quot;, &quot;inverted&quot;: false}, &quot;colors&quot;: {}, &quot;credits&quot;: {&quot;enabled&quot;: false}, &quot;drilldown&quot;: {}, &quot;exporting&quot;: {}, &quot;labels&quot;: {}, &quot;legend&quot;: {}, &quot;loading&quot;: {}, &quot;navigation&quot;: {}, &quot;pane&quot;: {}, &quot;plotOptions&quot;: {}, &quot;series&quot;: {}, &quot;subtitle&quot;: {&quot;text&quot;: &quot;1 means talking while 0 means non-talking&quot;}, &quot;title&quot;: {&quot;text&quot;: &quot;Prediction for video test5.mp4&quot;}, &quot;tooltip&quot;: {}, &quot;xAxis&quot;: {&quot;title&quot;: {&quot;text&quot;: &quot;Second&quot;}}, &quot;yAxis&quot;: {&quot;title&quot;: {&quot;text&quot;: &quot;Flag&quot;}}}; var chart = new Highcharts.Chart(option); var data = [{&quot;data&quot;: [[1.0, 0.05694812536239624], [2.0, 0.5961756110191345], [3.0, 0.602668285369873], [4.0, 0.6307440400123596], [5.0, 0.5257042646408081], [6.0, 0.6462782621383667], [7.0, 0.5838209986686707], [8.0, 0.04863131046295166], [9.0, 0.6149179935455322], [10.0, 0.17413944005966187], [11.0, 0.19049105048179626], [12.0, 0.0492711067199707], [13.0, 0.48005127906799316], [14.0, 0.6357658505439758], [15.0, 0.05044180154800415], [16.0, 0.04965311288833618], [17.0, 0.047362715005874634], [18.0, 0.04751655459403992], [19.0, 0.04900464415550232], [20.0, 0.049047112464904785], [21.0, 0.052597612142562866], [22.0, 0.04905220866203308], [23.0, 0.4310441017150879], [24.0, 0.04909217357635498], [25.0, 0.04940727353096008], [26.0, 0.04783445596694946], [27.0, 0.6428278684616089], [28.0, 0.490449458360672], [29.0, 0.0490950345993042], [30.0, 0.5573844313621521], [31.0, 0.5998128652572632], [32.0, 0.6329941153526306], [33.0, 0.04972022771835327], [34.0, 0.05200126767158508], [35.0, 0.05046233534812927], [36.0, 0.048402756452560425], [37.0, 0.04809507727622986], [38.0, 0.05045163631439209], [39.0, 0.05141395330429077], [40.0, 0.6377186179161072], [41.0, 0.6353421211242676], [42.0, 0.5533355474472046], [43.0, 0.6019986271858215], [44.0, 0.6122803092002869], [45.0, 0.4848935306072235], [46.0, 0.5221254825592041], [47.0, 0.5520417094230652], [48.0, 0.04769602417945862], [49.0, 0.2118971049785614], [50.0, 0.22017741203308105], [51.0, 0.31566134095191956], [52.0, 0.2535320520401001], [53.0, 0.04881352186203003], [54.0, 0.04780179262161255], [55.0, 0.049581557512283325], [56.0, 0.09393727779388428], [57.0, 0.048368215560913086], [58.0, 0.4986875653266907], [59.0, 0.6464101672172546], [60.0, 0.626075267791748], [61.0, 0.10701406002044678], [62.0, 0.10701406002044678], [63.0, 0.21424385905265808], [64.0, 0.2523333430290222], [65.0, 0.05224093794822693], [66.0, 0.24445638060569763], [67.0, 0.04886859655380249], [68.0, 0.6495272517204285], [69.0, 0.5713686943054199], [70.0, 0.5957187414169312], [71.0, 0.6406830549240112], [72.0, 0.4361099600791931], [73.0, 0.19137242436408997], [74.0, 0.04727479815483093], [75.0, 0.047389209270477295], [76.0, 0.04752817749977112], [77.0, 0.25015756487846375], [78.0, 0.10701406002044678], [79.0, 0.10701406002044678], [80.0, 0.10701406002044678], [81.0, 0.46329864859580994], [82.0, 0.6492635011672974], [83.0, 0.649954080581665], [84.0, 0.6365594863891602], [85.0, 0.13590875267982483], [86.0, 0.0479949414730072], [87.0, 0.05068454146385193], [88.0, 0.6391995549201965], [89.0, 0.6496644020080566], [90.0, 0.6241321563720703], [91.0, 0.04860427975654602], [92.0, 0.04974046349525452], [93.0, 0.04750058054924011], [94.0, 0.04948332905769348], [95.0, 0.6133586168289185], [96.0, 0.5210331082344055], [97.0, 0.6457657217979431], [98.0, 0.04882111772894859]], &quot;type&quot;: &quot;line&quot;, &quot;name&quot;: &quot;prediction&quot;}, {&quot;data&quot;: [[1.0, 0.5], [2.0, 0.5], [3.0, 0.5], [4.0, 0.5], [5.0, 0.5], [6.0, 0.5], [7.0, 0.5], [8.0, 0.5], [9.0, 0.5], [10.0, 0.5], [11.0, 0.5], [12.0, 0.5], [13.0, 0.5], [14.0, 0.5], [15.0, 0.5], [16.0, 0.5], [17.0, 0.5], [18.0, 0.5], [19.0, 0.5], [20.0, 0.5], [21.0, 0.5], [22.0, 0.5], [23.0, 0.5], [24.0, 0.5], [25.0, 0.5], [26.0, 0.5], [27.0, 0.5], [28.0, 0.5], [29.0, 0.5], [30.0, 0.5], [31.0, 0.5], [32.0, 0.5], [33.0, 0.5], [34.0, 0.5], [35.0, 0.5], [36.0, 0.5], [37.0, 0.5], [38.0, 0.5], [39.0, 0.5], [40.0, 0.5], [41.0, 0.5], [42.0, 0.5], [43.0, 0.5], [44.0, 0.5], [45.0, 0.5], [46.0, 0.5], [47.0, 0.5], [48.0, 0.5], [49.0, 0.5], [50.0, 0.5], [51.0, 0.5], [52.0, 0.5], [53.0, 0.5], [54.0, 0.5], [55.0, 0.5], [56.0, 0.5], [57.0, 0.5], [58.0, 0.5], [59.0, 0.5], [60.0, 0.5], [61.0, 0.5], [62.0, 0.5], [63.0, 0.5], [64.0, 0.5], [65.0, 0.5], [66.0, 0.5], [67.0, 0.5], [68.0, 0.5], [69.0, 0.5], [70.0, 0.5], [71.0, 0.5], [72.0, 0.5], [73.0, 0.5], [74.0, 0.5], [75.0, 0.5], [76.0, 0.5], [77.0, 0.5], [78.0, 0.5], [79.0, 0.5], [80.0, 0.5], [81.0, 0.5], [82.0, 0.5], [83.0, 0.5], [84.0, 0.5], [85.0, 0.5], [86.0, 0.5], [87.0, 0.5], [88.0, 0.5], [89.0, 0.5], [90.0, 0.5], [91.0, 0.5], [92.0, 0.5], [93.0, 0.5], [94.0, 0.5], [95.0, 0.5], [96.0, 0.5], [97.0, 0.5], [98.0, 0.5]], &quot;type&quot;: &quot;line&quot;, &quot;name&quot;: &quot;talking/silent&quot;}]; var dataLen = data.length; for (var ix = 0; ix &lt; dataLen; ix++) { chart.addSeries(data[ix]); } }); &lt;/script&gt; &lt;/body&gt; &lt;/html&gt;\" height=520 width=820></iframe>"
      ],
      "text/plain": [
       "<highcharts.highcharts.highcharts.Highchart at 0x2d441779248>"
      ]
     },
     "execution_count": 25,
     "metadata": {},
     "output_type": "execute_result"
    }
   ],
   "source": [
    "folder_name = 'test5'#type your folder path here, which contains openpose json files\n",
    "video_name = 'test5.mp4'#type your video path here, we want to know frame rate to create time labels \n",
    "model_name = 'model/ensemble.h5'#type your model name here\n",
    "chart5 = draw(folder_name,video_name,model_name)#return a frame/label chart and saved a time/label json file\n",
    "chart5.save_file('chart_for_video_'+video_name)#save the chart \n",
    "chart5"
   ]
  },
  {
   "cell_type": "code",
   "execution_count": null,
   "metadata": {},
   "outputs": [],
   "source": []
  }
 ],
 "metadata": {
  "kernelspec": {
   "display_name": "Python 3",
   "language": "python",
   "name": "python3"
  },
  "language_info": {
   "codemirror_mode": {
    "name": "ipython",
    "version": 3
   },
   "file_extension": ".py",
   "mimetype": "text/x-python",
   "name": "python",
   "nbconvert_exporter": "python",
   "pygments_lexer": "ipython3",
   "version": "3.7.4"
  }
 },
 "nbformat": 4,
 "nbformat_minor": 2
}
